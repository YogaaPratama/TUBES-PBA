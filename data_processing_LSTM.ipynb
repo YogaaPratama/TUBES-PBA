{
 "cells": [
  {
   "cell_type": "code",
   "execution_count": 1,
   "metadata": {},
   "outputs": [],
   "source": [
    "import numpy as np\n",
    "import pandas as pd\n",
    "import re\n",
    "from sklearn.model_selection import train_test_split\n",
    "from sklearn.feature_extraction.text import TfidfVectorizer\n",
    "from tensorflow.keras.preprocessing.text import Tokenizer\n",
    "from tensorflow.keras.preprocessing.sequence import pad_sequences\n",
    "from keras.models import Sequential\n",
    "from keras.layers import Embedding, LSTM, Dense, Dropout\n",
    "from sklearn.metrics import accuracy_score, confusion_matrix"
   ]
  },
  {
   "cell_type": "code",
   "execution_count": 2,
   "metadata": {},
   "outputs": [],
   "source": [
    "df_sampled = pd.read_csv('sampled_news.csv')"
   ]
  },
  {
   "cell_type": "code",
   "execution_count": 3,
   "metadata": {},
   "outputs": [
    {
     "data": {
      "text/plain": [
       "(2000, 4)"
      ]
     },
     "execution_count": 3,
     "metadata": {},
     "output_type": "execute_result"
    }
   ],
   "source": [
    "df_sampled.shape"
   ]
  },
  {
   "cell_type": "code",
   "execution_count": 4,
   "metadata": {},
   "outputs": [
    {
     "name": "stdout",
     "output_type": "stream",
     "text": [
      "<class 'pandas.core.frame.DataFrame'>\n",
      "RangeIndex: 2000 entries, 0 to 1999\n",
      "Data columns (total 4 columns):\n",
      " #   Column      Non-Null Count  Dtype \n",
      "---  ------      --------------  ----- \n",
      " 0   Unnamed: 0  2000 non-null   int64 \n",
      " 1   title       2000 non-null   object\n",
      " 2   text        2000 non-null   object\n",
      " 3   label       2000 non-null   object\n",
      "dtypes: int64(1), object(3)\n",
      "memory usage: 62.6+ KB\n"
     ]
    }
   ],
   "source": [
    "df_sampled.info()"
   ]
  },
  {
   "cell_type": "code",
   "execution_count": 5,
   "metadata": {},
   "outputs": [
    {
     "data": {
      "text/plain": [
       "label\n",
       "FAKE    51.15\n",
       "REAL    48.85\n",
       "Name: proportion, dtype: float64"
      ]
     },
     "execution_count": 5,
     "metadata": {},
     "output_type": "execute_result"
    }
   ],
   "source": [
    "df_sampled['label'].value_counts(normalize=True) * 100"
   ]
  },
  {
   "cell_type": "code",
   "execution_count": 6,
   "metadata": {},
   "outputs": [
    {
     "data": {
      "text/html": [
       "<div>\n",
       "<style scoped>\n",
       "    .dataframe tbody tr th:only-of-type {\n",
       "        vertical-align: middle;\n",
       "    }\n",
       "\n",
       "    .dataframe tbody tr th {\n",
       "        vertical-align: top;\n",
       "    }\n",
       "\n",
       "    .dataframe thead th {\n",
       "        text-align: right;\n",
       "    }\n",
       "</style>\n",
       "<table border=\"1\" class=\"dataframe\">\n",
       "  <thead>\n",
       "    <tr style=\"text-align: right;\">\n",
       "      <th></th>\n",
       "      <th>Unnamed: 0</th>\n",
       "      <th>title</th>\n",
       "      <th>text</th>\n",
       "      <th>label</th>\n",
       "    </tr>\n",
       "  </thead>\n",
       "  <tbody>\n",
       "    <tr>\n",
       "      <th>0</th>\n",
       "      <td>9957</td>\n",
       "      <td>American Dream, Revisited</td>\n",
       "      <td>Will Trump pull a Brexit times ten? What would...</td>\n",
       "      <td>FAKE</td>\n",
       "    </tr>\n",
       "    <tr>\n",
       "      <th>1</th>\n",
       "      <td>7596</td>\n",
       "      <td>Clintons Are Under Multiple FBI Investigations...</td>\n",
       "      <td>Clintons Are Under Multiple FBI Investigations...</td>\n",
       "      <td>FAKE</td>\n",
       "    </tr>\n",
       "    <tr>\n",
       "      <th>2</th>\n",
       "      <td>8905</td>\n",
       "      <td>The FBI Can’t Actually Investigate a Candidate...</td>\n",
       "      <td>Dispatches from Eric Zuesse This piece is cros...</td>\n",
       "      <td>FAKE</td>\n",
       "    </tr>\n",
       "    <tr>\n",
       "      <th>3</th>\n",
       "      <td>8752</td>\n",
       "      <td>Confirmed: Public overwhelmingly (10-to-1) say...</td>\n",
       "      <td>Print \\n[Ed. – Every now and then the facade c...</td>\n",
       "      <td>FAKE</td>\n",
       "    </tr>\n",
       "    <tr>\n",
       "      <th>4</th>\n",
       "      <td>7804</td>\n",
       "      <td>Nanny In Jail After Force Feeding Baby To Death</td>\n",
       "      <td>Nanny In Jail After Force Feeding Baby To Deat...</td>\n",
       "      <td>FAKE</td>\n",
       "    </tr>\n",
       "    <tr>\n",
       "      <th>...</th>\n",
       "      <td>...</td>\n",
       "      <td>...</td>\n",
       "      <td>...</td>\n",
       "      <td>...</td>\n",
       "    </tr>\n",
       "    <tr>\n",
       "      <th>1995</th>\n",
       "      <td>7805</td>\n",
       "      <td>Saudis Foil ISIS Terror Attacks on Packed Stadium</td>\n",
       "      <td>Saudi Arabia says it has thwarted two ISIS ter...</td>\n",
       "      <td>FAKE</td>\n",
       "    </tr>\n",
       "    <tr>\n",
       "      <th>1996</th>\n",
       "      <td>10287</td>\n",
       "      <td>Police Department Is Being Evicted – Lafayette...</td>\n",
       "      <td>\\nAn East Bay police department is now looking...</td>\n",
       "      <td>FAKE</td>\n",
       "    </tr>\n",
       "    <tr>\n",
       "      <th>1997</th>\n",
       "      <td>1176</td>\n",
       "      <td>Trump, Sanders Crush the Competition in New Ha...</td>\n",
       "      <td>Democrat Bernie Sanders and Republican Donald ...</td>\n",
       "      <td>REAL</td>\n",
       "    </tr>\n",
       "    <tr>\n",
       "      <th>1998</th>\n",
       "      <td>5951</td>\n",
       "      <td>The words Extraordinary Claims needs to be ban...</td>\n",
       "      <td>The words Extraordinary Claims needs to be ban...</td>\n",
       "      <td>FAKE</td>\n",
       "    </tr>\n",
       "    <tr>\n",
       "      <th>1999</th>\n",
       "      <td>6111</td>\n",
       "      <td>Britain No Longer a Sovereign Democracy</td>\n",
       "      <td>Home | World | Britain No Longer a Sovereign D...</td>\n",
       "      <td>FAKE</td>\n",
       "    </tr>\n",
       "  </tbody>\n",
       "</table>\n",
       "<p>2000 rows × 4 columns</p>\n",
       "</div>"
      ],
      "text/plain": [
       "      Unnamed: 0                                              title  \\\n",
       "0           9957                          American Dream, Revisited   \n",
       "1           7596  Clintons Are Under Multiple FBI Investigations...   \n",
       "2           8905  The FBI Can’t Actually Investigate a Candidate...   \n",
       "3           8752  Confirmed: Public overwhelmingly (10-to-1) say...   \n",
       "4           7804    Nanny In Jail After Force Feeding Baby To Death   \n",
       "...          ...                                                ...   \n",
       "1995        7805  Saudis Foil ISIS Terror Attacks on Packed Stadium   \n",
       "1996       10287  Police Department Is Being Evicted – Lafayette...   \n",
       "1997        1176  Trump, Sanders Crush the Competition in New Ha...   \n",
       "1998        5951  The words Extraordinary Claims needs to be ban...   \n",
       "1999        6111            Britain No Longer a Sovereign Democracy   \n",
       "\n",
       "                                                   text label  \n",
       "0     Will Trump pull a Brexit times ten? What would...  FAKE  \n",
       "1     Clintons Are Under Multiple FBI Investigations...  FAKE  \n",
       "2     Dispatches from Eric Zuesse This piece is cros...  FAKE  \n",
       "3     Print \\n[Ed. – Every now and then the facade c...  FAKE  \n",
       "4     Nanny In Jail After Force Feeding Baby To Deat...  FAKE  \n",
       "...                                                 ...   ...  \n",
       "1995  Saudi Arabia says it has thwarted two ISIS ter...  FAKE  \n",
       "1996  \\nAn East Bay police department is now looking...  FAKE  \n",
       "1997  Democrat Bernie Sanders and Republican Donald ...  REAL  \n",
       "1998  The words Extraordinary Claims needs to be ban...  FAKE  \n",
       "1999  Home | World | Britain No Longer a Sovereign D...  FAKE  \n",
       "\n",
       "[2000 rows x 4 columns]"
      ]
     },
     "execution_count": 6,
     "metadata": {},
     "output_type": "execute_result"
    }
   ],
   "source": [
    "df_sampled"
   ]
  },
  {
   "cell_type": "code",
   "execution_count": 7,
   "metadata": {},
   "outputs": [
    {
     "data": {
      "text/html": [
       "<div>\n",
       "<style scoped>\n",
       "    .dataframe tbody tr th:only-of-type {\n",
       "        vertical-align: middle;\n",
       "    }\n",
       "\n",
       "    .dataframe tbody tr th {\n",
       "        vertical-align: top;\n",
       "    }\n",
       "\n",
       "    .dataframe thead th {\n",
       "        text-align: right;\n",
       "    }\n",
       "</style>\n",
       "<table border=\"1\" class=\"dataframe\">\n",
       "  <thead>\n",
       "    <tr style=\"text-align: right;\">\n",
       "      <th></th>\n",
       "      <th>text</th>\n",
       "      <th>label</th>\n",
       "    </tr>\n",
       "  </thead>\n",
       "  <tbody>\n",
       "    <tr>\n",
       "      <th>0</th>\n",
       "      <td>Will Trump pull a Brexit times ten? What would...</td>\n",
       "      <td>FAKE</td>\n",
       "    </tr>\n",
       "    <tr>\n",
       "      <th>1</th>\n",
       "      <td>Clintons Are Under Multiple FBI Investigations...</td>\n",
       "      <td>FAKE</td>\n",
       "    </tr>\n",
       "    <tr>\n",
       "      <th>2</th>\n",
       "      <td>Dispatches from Eric Zuesse This piece is cros...</td>\n",
       "      <td>FAKE</td>\n",
       "    </tr>\n",
       "    <tr>\n",
       "      <th>3</th>\n",
       "      <td>Print \\n[Ed. – Every now and then the facade c...</td>\n",
       "      <td>FAKE</td>\n",
       "    </tr>\n",
       "    <tr>\n",
       "      <th>4</th>\n",
       "      <td>Nanny In Jail After Force Feeding Baby To Deat...</td>\n",
       "      <td>FAKE</td>\n",
       "    </tr>\n",
       "  </tbody>\n",
       "</table>\n",
       "</div>"
      ],
      "text/plain": [
       "                                                text label\n",
       "0  Will Trump pull a Brexit times ten? What would...  FAKE\n",
       "1  Clintons Are Under Multiple FBI Investigations...  FAKE\n",
       "2  Dispatches from Eric Zuesse This piece is cros...  FAKE\n",
       "3  Print \\n[Ed. – Every now and then the facade c...  FAKE\n",
       "4  Nanny In Jail After Force Feeding Baby To Deat...  FAKE"
      ]
     },
     "execution_count": 7,
     "metadata": {},
     "output_type": "execute_result"
    }
   ],
   "source": [
    "if 'Unnamed: 0' in df_sampled.columns:\n",
    "\tdf_sampled.drop(columns=['Unnamed: 0'], inplace=True)\n",
    "if 'title' in df_sampled.columns:\n",
    "\tdf_sampled.drop(columns=['title'], inplace=True)\n",
    "df_sampled.head()"
   ]
  },
  {
   "cell_type": "code",
   "execution_count": 8,
   "metadata": {},
   "outputs": [],
   "source": [
    "def clean_twitter_text(text):\n",
    "    text = re.sub(r'@[A-Za-z0-9_]+', '', text)  # Menghapus mention\n",
    "    text = re.sub(r'#\\w+', '', text)  # Menghapus hashtag\n",
    "    text = re.sub(r'RT[\\s]+', '', text)  # Menghapus retweet\n",
    "    text = re.sub(r'https?://\\S+', '', text)  # Menghapus URL\n",
    "    text = re.sub(r'\\bfr\\b', '', text, flags=re.IGNORECASE)  # Menghapus kata \"fr\" (case-insensitive)\n",
    "    \n",
    "    text = re.sub(r'[^A-Za-z0-9 ]', '', text)  # Menghapus karakter non-alphanumeric\n",
    "    text = re.sub(r'\\s+', ' ', text).strip()  # Menghapus spasi berlebih\n",
    "\n",
    "    return text\n",
    "\n",
    "df_sampled['text'] = df_sampled['text'].apply(clean_twitter_text)"
   ]
  },
  {
   "cell_type": "code",
   "execution_count": 9,
   "metadata": {},
   "outputs": [
    {
     "data": {
      "text/html": [
       "<div>\n",
       "<style scoped>\n",
       "    .dataframe tbody tr th:only-of-type {\n",
       "        vertical-align: middle;\n",
       "    }\n",
       "\n",
       "    .dataframe tbody tr th {\n",
       "        vertical-align: top;\n",
       "    }\n",
       "\n",
       "    .dataframe thead th {\n",
       "        text-align: right;\n",
       "    }\n",
       "</style>\n",
       "<table border=\"1\" class=\"dataframe\">\n",
       "  <thead>\n",
       "    <tr style=\"text-align: right;\">\n",
       "      <th></th>\n",
       "      <th>text</th>\n",
       "      <th>label</th>\n",
       "    </tr>\n",
       "  </thead>\n",
       "  <tbody>\n",
       "    <tr>\n",
       "      <th>0</th>\n",
       "      <td>Will Trump pull a Brexit times ten What would ...</td>\n",
       "      <td>FAKE</td>\n",
       "    </tr>\n",
       "    <tr>\n",
       "      <th>1</th>\n",
       "      <td>Clintons Are Under Multiple FBI Investigations...</td>\n",
       "      <td>FAKE</td>\n",
       "    </tr>\n",
       "    <tr>\n",
       "      <th>2</th>\n",
       "      <td>Dispatches from Eric Zuesse This piece is cros...</td>\n",
       "      <td>FAKE</td>\n",
       "    </tr>\n",
       "    <tr>\n",
       "      <th>3</th>\n",
       "      <td>Print Ed Every now and then the facade cracks ...</td>\n",
       "      <td>FAKE</td>\n",
       "    </tr>\n",
       "    <tr>\n",
       "      <th>4</th>\n",
       "      <td>Nanny In Jail After Force Feeding Baby To Deat...</td>\n",
       "      <td>FAKE</td>\n",
       "    </tr>\n",
       "  </tbody>\n",
       "</table>\n",
       "</div>"
      ],
      "text/plain": [
       "                                                text label\n",
       "0  Will Trump pull a Brexit times ten What would ...  FAKE\n",
       "1  Clintons Are Under Multiple FBI Investigations...  FAKE\n",
       "2  Dispatches from Eric Zuesse This piece is cros...  FAKE\n",
       "3  Print Ed Every now and then the facade cracks ...  FAKE\n",
       "4  Nanny In Jail After Force Feeding Baby To Deat...  FAKE"
      ]
     },
     "execution_count": 9,
     "metadata": {},
     "output_type": "execute_result"
    }
   ],
   "source": [
    "df_sampled.head()"
   ]
  },
  {
   "cell_type": "code",
   "execution_count": 10,
   "metadata": {},
   "outputs": [
    {
     "name": "stdout",
     "output_type": "stream",
     "text": [
      "                                                   text label\n",
      "0     Will Trump pull a Brexit times ten What would ...  FAKE\n",
      "1     Clintons Are Under Multiple FBI Investigations...  FAKE\n",
      "2     Dispatches from Eric Zuesse This piece is cros...  FAKE\n",
      "3     Print Ed Every now and then the facade cracks ...  FAKE\n",
      "4     Nanny In Jail After Force Feeding Baby To Deat...  FAKE\n",
      "...                                                 ...   ...\n",
      "1995  Saudi Arabia says it has thwarted two ISIS ter...  FAKE\n",
      "1996  An East Bay police department is now looking f...  FAKE\n",
      "1997  Democrat Bernie Sanders and Republican Donald ...  REAL\n",
      "1998  The words Extraordinary Claims needs to be ban...  FAKE\n",
      "1999  Home World Britain No Longer a Sovereign Democ...  FAKE\n",
      "\n",
      "[2000 rows x 2 columns]\n"
     ]
    }
   ],
   "source": [
    "# Fungsi normalisasi untuk menghapus \"rt\" dari teks\n",
    "def normalisasi(str_text):\n",
    "    if isinstance(str_text, str):  # Mengecek apakah input adalah string\n",
    "        # Menghapus semua kemunculan \"rt, fr\" di dalam string\n",
    "        str_text = str_text.replace('rt ', '')\n",
    "        str_text = str_text.replace('fr ', '')\n",
    "        return str_text\n",
    "    return str_text\n",
    "\n",
    "# Menerapkan fungsi normalisasi pada kolom 'full_text'\n",
    "df_sampled['text'] = df_sampled['text'].apply(normalisasi)\n",
    "\n",
    "# Menampilkan hasil\n",
    "print(df_sampled)"
   ]
  },
  {
   "cell_type": "code",
   "execution_count": 11,
   "metadata": {},
   "outputs": [
    {
     "name": "stdout",
     "output_type": "stream",
     "text": [
      "61\n",
      "Jumlah baris duplikat: 61\n",
      "Baris duplikat:\n",
      "                                                   text label\n",
      "187                                                      FAKE\n",
      "188                                                      FAKE\n",
      "240   Killing Obama administration rules dismantling...  REAL\n",
      "243   A verdict in 2017 could have sweeping conseque...  REAL\n",
      "253                                                      FAKE\n",
      "...                                                 ...   ...\n",
      "1780  The president refuses to say hed hold to the t...  REAL\n",
      "1816  Nation Puts 2016 Election Into Perspective By ...  FAKE\n",
      "1829  The move would make it easier for the Trump ad...  REAL\n",
      "1877  Nation Puts 2016 Election Into Perspective By ...  FAKE\n",
      "1936  Killing Obama administration rules dismantling...  REAL\n",
      "\n",
      "[61 rows x 2 columns]\n"
     ]
    }
   ],
   "source": [
    "# Mengecek duplikat baris di dataset\n",
    "duplikat = df_sampled.duplicated(subset='text')\n",
    "print(duplikat.sum())  # Menghitung jumlah duplikat\n",
    "\n",
    "# Menampilkan jumlah baris yang duplikat\n",
    "print(f\"Jumlah baris duplikat: {duplikat.sum()}\")\n",
    "\n",
    "# Menampilkan baris-baris yang duplikat\n",
    "duplikat_baris = df_sampled[df_sampled.duplicated(subset='text')]\n",
    "print(\"Baris duplikat:\")\n",
    "print(duplikat_baris)"
   ]
  },
  {
   "cell_type": "code",
   "execution_count": 12,
   "metadata": {},
   "outputs": [
    {
     "name": "stdout",
     "output_type": "stream",
     "text": [
      "<class 'pandas.core.frame.DataFrame'>\n",
      "RangeIndex: 2000 entries, 0 to 1999\n",
      "Data columns (total 2 columns):\n",
      " #   Column  Non-Null Count  Dtype \n",
      "---  ------  --------------  ----- \n",
      " 0   text    2000 non-null   object\n",
      " 1   label   2000 non-null   object\n",
      "dtypes: object(2)\n",
      "memory usage: 31.4+ KB\n"
     ]
    }
   ],
   "source": [
    "df_sampled['text'] = df_sampled['text'].astype(str)\n",
    "df_sampled['label'] = df_sampled['label'].astype(str)\n",
    "df_sampled.info()"
   ]
  },
  {
   "cell_type": "code",
   "execution_count": 13,
   "metadata": {},
   "outputs": [
    {
     "name": "stdout",
     "output_type": "stream",
     "text": [
      "0\n",
      "Jumlah baris duplikat: 0\n",
      "Baris duplikat:\n",
      "Empty DataFrame\n",
      "Columns: [text, label]\n",
      "Index: []\n",
      "<class 'pandas.core.frame.DataFrame'>\n",
      "Index: 1939 entries, 0 to 1999\n",
      "Data columns (total 2 columns):\n",
      " #   Column  Non-Null Count  Dtype \n",
      "---  ------  --------------  ----- \n",
      " 0   text    1939 non-null   object\n",
      " 1   label   1939 non-null   object\n",
      "dtypes: object(2)\n",
      "memory usage: 45.4+ KB\n"
     ]
    }
   ],
   "source": [
    "df_sampled.drop_duplicates(subset=\"text\", keep='first', inplace=True)  # Menghapus duplikat\n",
    "\n",
    "# Mengecek duplikat baris di dataset\n",
    "duplikat = df_sampled.duplicated(subset='text')\n",
    "print(duplikat.sum())  # Menghitung jumlah duplikat\n",
    "\n",
    "# Menampilkan jumlah baris yang duplikat\n",
    "print(f\"Jumlah baris duplikat: {duplikat.sum()}\")\n",
    "\n",
    "# Menampilkan baris-baris yang duplikat\n",
    "duplikat_baris = df_sampled[df_sampled.duplicated(subset='text')]\n",
    "print(\"Baris duplikat:\")\n",
    "print(duplikat_baris)\n",
    "\n",
    "df_sampled.info()"
   ]
  },
  {
   "cell_type": "code",
   "execution_count": 14,
   "metadata": {},
   "outputs": [
    {
     "name": "stdout",
     "output_type": "stream",
     "text": [
      "text     0\n",
      "label    0\n",
      "dtype: int64\n"
     ]
    }
   ],
   "source": [
    "# Mengecek jumlah nilai null di setiap kolom\n",
    "null_counts = df_sampled.isnull().sum()\n",
    "print(null_counts)"
   ]
  },
  {
   "cell_type": "code",
   "execution_count": 15,
   "metadata": {},
   "outputs": [
    {
     "data": {
      "text/html": [
       "<div>\n",
       "<style scoped>\n",
       "    .dataframe tbody tr th:only-of-type {\n",
       "        vertical-align: middle;\n",
       "    }\n",
       "\n",
       "    .dataframe tbody tr th {\n",
       "        vertical-align: top;\n",
       "    }\n",
       "\n",
       "    .dataframe thead th {\n",
       "        text-align: right;\n",
       "    }\n",
       "</style>\n",
       "<table border=\"1\" class=\"dataframe\">\n",
       "  <thead>\n",
       "    <tr style=\"text-align: right;\">\n",
       "      <th></th>\n",
       "      <th>text</th>\n",
       "      <th>label</th>\n",
       "      <th>case_folding</th>\n",
       "    </tr>\n",
       "  </thead>\n",
       "  <tbody>\n",
       "    <tr>\n",
       "      <th>0</th>\n",
       "      <td>Will Trump pull a Brexit times ten What would ...</td>\n",
       "      <td>FAKE</td>\n",
       "      <td>will trump pull a brexit times ten what would ...</td>\n",
       "    </tr>\n",
       "    <tr>\n",
       "      <th>1</th>\n",
       "      <td>Clintons Are Under Multiple FBI Investigations...</td>\n",
       "      <td>FAKE</td>\n",
       "      <td>clintons are under multiple fbi investigations...</td>\n",
       "    </tr>\n",
       "    <tr>\n",
       "      <th>2</th>\n",
       "      <td>Dispatches from Eric Zuesse This piece is cros...</td>\n",
       "      <td>FAKE</td>\n",
       "      <td>dispatches from eric zuesse this piece is cros...</td>\n",
       "    </tr>\n",
       "    <tr>\n",
       "      <th>3</th>\n",
       "      <td>Print Ed Every now and then the facade cracks ...</td>\n",
       "      <td>FAKE</td>\n",
       "      <td>print ed every now and then the facade cracks ...</td>\n",
       "    </tr>\n",
       "    <tr>\n",
       "      <th>4</th>\n",
       "      <td>Nanny In Jail After Force Feeding Baby To Deat...</td>\n",
       "      <td>FAKE</td>\n",
       "      <td>nanny in jail after force feeding baby to deat...</td>\n",
       "    </tr>\n",
       "  </tbody>\n",
       "</table>\n",
       "</div>"
      ],
      "text/plain": [
       "                                                text label  \\\n",
       "0  Will Trump pull a Brexit times ten What would ...  FAKE   \n",
       "1  Clintons Are Under Multiple FBI Investigations...  FAKE   \n",
       "2  Dispatches from Eric Zuesse This piece is cros...  FAKE   \n",
       "3  Print Ed Every now and then the facade cracks ...  FAKE   \n",
       "4  Nanny In Jail After Force Feeding Baby To Deat...  FAKE   \n",
       "\n",
       "                                        case_folding  \n",
       "0  will trump pull a brexit times ten what would ...  \n",
       "1  clintons are under multiple fbi investigations...  \n",
       "2  dispatches from eric zuesse this piece is cros...  \n",
       "3  print ed every now and then the facade cracks ...  \n",
       "4  nanny in jail after force feeding baby to deat...  "
      ]
     },
     "execution_count": 15,
     "metadata": {},
     "output_type": "execute_result"
    }
   ],
   "source": [
    "def case_folding(text):\n",
    "    if isinstance(text, str):\n",
    "        lowercase_text = text.lower()\n",
    "        return lowercase_text\n",
    "    else:\n",
    "        return text\n",
    "\n",
    "df_sampled['case_folding'] = df_sampled['text'].apply(case_folding)\n",
    "\n",
    "df_sampled.head()"
   ]
  },
  {
   "cell_type": "code",
   "execution_count": 16,
   "metadata": {},
   "outputs": [
    {
     "data": {
      "text/html": [
       "<div>\n",
       "<style scoped>\n",
       "    .dataframe tbody tr th:only-of-type {\n",
       "        vertical-align: middle;\n",
       "    }\n",
       "\n",
       "    .dataframe tbody tr th {\n",
       "        vertical-align: top;\n",
       "    }\n",
       "\n",
       "    .dataframe thead th {\n",
       "        text-align: right;\n",
       "    }\n",
       "</style>\n",
       "<table border=\"1\" class=\"dataframe\">\n",
       "  <thead>\n",
       "    <tr style=\"text-align: right;\">\n",
       "      <th></th>\n",
       "      <th>text</th>\n",
       "      <th>label</th>\n",
       "      <th>case_folding</th>\n",
       "      <th>tokenize</th>\n",
       "    </tr>\n",
       "  </thead>\n",
       "  <tbody>\n",
       "    <tr>\n",
       "      <th>0</th>\n",
       "      <td>Will Trump pull a Brexit times ten What would ...</td>\n",
       "      <td>FAKE</td>\n",
       "      <td>will trump pull a brexit times ten what would ...</td>\n",
       "      <td>[Will, Trump, pull, a, Brexit, times, ten, Wha...</td>\n",
       "    </tr>\n",
       "    <tr>\n",
       "      <th>1</th>\n",
       "      <td>Clintons Are Under Multiple FBI Investigations...</td>\n",
       "      <td>FAKE</td>\n",
       "      <td>clintons are under multiple fbi investigations...</td>\n",
       "      <td>[Clintons, Are, Under, Multiple, FBI, Investig...</td>\n",
       "    </tr>\n",
       "    <tr>\n",
       "      <th>2</th>\n",
       "      <td>Dispatches from Eric Zuesse This piece is cros...</td>\n",
       "      <td>FAKE</td>\n",
       "      <td>dispatches from eric zuesse this piece is cros...</td>\n",
       "      <td>[Dispatches, from, Eric, Zuesse, This, piece, ...</td>\n",
       "    </tr>\n",
       "    <tr>\n",
       "      <th>3</th>\n",
       "      <td>Print Ed Every now and then the facade cracks ...</td>\n",
       "      <td>FAKE</td>\n",
       "      <td>print ed every now and then the facade cracks ...</td>\n",
       "      <td>[Print, Ed, Every, now, and, then, the, facade...</td>\n",
       "    </tr>\n",
       "    <tr>\n",
       "      <th>4</th>\n",
       "      <td>Nanny In Jail After Force Feeding Baby To Deat...</td>\n",
       "      <td>FAKE</td>\n",
       "      <td>nanny in jail after force feeding baby to deat...</td>\n",
       "      <td>[Nanny, In, Jail, After, Force, Feeding, Baby,...</td>\n",
       "    </tr>\n",
       "  </tbody>\n",
       "</table>\n",
       "</div>"
      ],
      "text/plain": [
       "                                                text label  \\\n",
       "0  Will Trump pull a Brexit times ten What would ...  FAKE   \n",
       "1  Clintons Are Under Multiple FBI Investigations...  FAKE   \n",
       "2  Dispatches from Eric Zuesse This piece is cros...  FAKE   \n",
       "3  Print Ed Every now and then the facade cracks ...  FAKE   \n",
       "4  Nanny In Jail After Force Feeding Baby To Deat...  FAKE   \n",
       "\n",
       "                                        case_folding  \\\n",
       "0  will trump pull a brexit times ten what would ...   \n",
       "1  clintons are under multiple fbi investigations...   \n",
       "2  dispatches from eric zuesse this piece is cros...   \n",
       "3  print ed every now and then the facade cracks ...   \n",
       "4  nanny in jail after force feeding baby to deat...   \n",
       "\n",
       "                                            tokenize  \n",
       "0  [Will, Trump, pull, a, Brexit, times, ten, Wha...  \n",
       "1  [Clintons, Are, Under, Multiple, FBI, Investig...  \n",
       "2  [Dispatches, from, Eric, Zuesse, This, piece, ...  \n",
       "3  [Print, Ed, Every, now, and, then, the, facade...  \n",
       "4  [Nanny, In, Jail, After, Force, Feeding, Baby,...  "
      ]
     },
     "execution_count": 16,
     "metadata": {},
     "output_type": "execute_result"
    }
   ],
   "source": [
    "def tokenize(text):\n",
    "    tokens = text.split()\n",
    "    return tokens\n",
    "\n",
    "df_sampled['tokenize'] = df_sampled['text'].apply(tokenize)\n",
    "df_sampled.head()"
   ]
  },
  {
   "cell_type": "code",
   "execution_count": 17,
   "metadata": {},
   "outputs": [
    {
     "name": "stderr",
     "output_type": "stream",
     "text": [
      "[nltk_data] Downloading package stopwords to C:\\Users\\YOGA\n",
      "[nltk_data]     PRATAMA\\AppData\\Roaming\\nltk_data...\n",
      "[nltk_data]   Package stopwords is already up-to-date!\n"
     ]
    }
   ],
   "source": [
    "from nltk.corpus import stopwords\n",
    "import nltk\n",
    "\n",
    "# Mengunduh stopwords\n",
    "nltk.download('stopwords')\n",
    "\n",
    "# Mengambil stopwords dari bahasa Inggris\n",
    "stop_words = set(stopwords.words('english'))"
   ]
  },
  {
   "cell_type": "code",
   "execution_count": 18,
   "metadata": {},
   "outputs": [
    {
     "data": {
      "text/html": [
       "<div>\n",
       "<style scoped>\n",
       "    .dataframe tbody tr th:only-of-type {\n",
       "        vertical-align: middle;\n",
       "    }\n",
       "\n",
       "    .dataframe tbody tr th {\n",
       "        vertical-align: top;\n",
       "    }\n",
       "\n",
       "    .dataframe thead th {\n",
       "        text-align: right;\n",
       "    }\n",
       "</style>\n",
       "<table border=\"1\" class=\"dataframe\">\n",
       "  <thead>\n",
       "    <tr style=\"text-align: right;\">\n",
       "      <th></th>\n",
       "      <th>text</th>\n",
       "      <th>label</th>\n",
       "      <th>case_folding</th>\n",
       "      <th>tokenize</th>\n",
       "      <th>stop_word</th>\n",
       "    </tr>\n",
       "  </thead>\n",
       "  <tbody>\n",
       "    <tr>\n",
       "      <th>0</th>\n",
       "      <td>Will Trump pull a Brexit times ten What would ...</td>\n",
       "      <td>FAKE</td>\n",
       "      <td>will trump pull a brexit times ten what would ...</td>\n",
       "      <td>[Will, Trump, pull, a, Brexit, times, ten, Wha...</td>\n",
       "      <td>[Will, Trump, pull, Brexit, times, ten, What, ...</td>\n",
       "    </tr>\n",
       "    <tr>\n",
       "      <th>1</th>\n",
       "      <td>Clintons Are Under Multiple FBI Investigations...</td>\n",
       "      <td>FAKE</td>\n",
       "      <td>clintons are under multiple fbi investigations...</td>\n",
       "      <td>[Clintons, Are, Under, Multiple, FBI, Investig...</td>\n",
       "      <td>[Clintons, Are, Under, Multiple, FBI, Investig...</td>\n",
       "    </tr>\n",
       "    <tr>\n",
       "      <th>2</th>\n",
       "      <td>Dispatches from Eric Zuesse This piece is cros...</td>\n",
       "      <td>FAKE</td>\n",
       "      <td>dispatches from eric zuesse this piece is cros...</td>\n",
       "      <td>[Dispatches, from, Eric, Zuesse, This, piece, ...</td>\n",
       "      <td>[Dispatches, Eric, Zuesse, This, piece, crossp...</td>\n",
       "    </tr>\n",
       "    <tr>\n",
       "      <th>3</th>\n",
       "      <td>Print Ed Every now and then the facade cracks ...</td>\n",
       "      <td>FAKE</td>\n",
       "      <td>print ed every now and then the facade cracks ...</td>\n",
       "      <td>[Print, Ed, Every, now, and, then, the, facade...</td>\n",
       "      <td>[Print, Ed, Every, facade, cracks, Somebody, a...</td>\n",
       "    </tr>\n",
       "    <tr>\n",
       "      <th>4</th>\n",
       "      <td>Nanny In Jail After Force Feeding Baby To Deat...</td>\n",
       "      <td>FAKE</td>\n",
       "      <td>nanny in jail after force feeding baby to deat...</td>\n",
       "      <td>[Nanny, In, Jail, After, Force, Feeding, Baby,...</td>\n",
       "      <td>[Nanny, In, Jail, After, Force, Feeding, Baby,...</td>\n",
       "    </tr>\n",
       "  </tbody>\n",
       "</table>\n",
       "</div>"
      ],
      "text/plain": [
       "                                                text label  \\\n",
       "0  Will Trump pull a Brexit times ten What would ...  FAKE   \n",
       "1  Clintons Are Under Multiple FBI Investigations...  FAKE   \n",
       "2  Dispatches from Eric Zuesse This piece is cros...  FAKE   \n",
       "3  Print Ed Every now and then the facade cracks ...  FAKE   \n",
       "4  Nanny In Jail After Force Feeding Baby To Deat...  FAKE   \n",
       "\n",
       "                                        case_folding  \\\n",
       "0  will trump pull a brexit times ten what would ...   \n",
       "1  clintons are under multiple fbi investigations...   \n",
       "2  dispatches from eric zuesse this piece is cros...   \n",
       "3  print ed every now and then the facade cracks ...   \n",
       "4  nanny in jail after force feeding baby to deat...   \n",
       "\n",
       "                                            tokenize  \\\n",
       "0  [Will, Trump, pull, a, Brexit, times, ten, Wha...   \n",
       "1  [Clintons, Are, Under, Multiple, FBI, Investig...   \n",
       "2  [Dispatches, from, Eric, Zuesse, This, piece, ...   \n",
       "3  [Print, Ed, Every, now, and, then, the, facade...   \n",
       "4  [Nanny, In, Jail, After, Force, Feeding, Baby,...   \n",
       "\n",
       "                                           stop_word  \n",
       "0  [Will, Trump, pull, Brexit, times, ten, What, ...  \n",
       "1  [Clintons, Are, Under, Multiple, FBI, Investig...  \n",
       "2  [Dispatches, Eric, Zuesse, This, piece, crossp...  \n",
       "3  [Print, Ed, Every, facade, cracks, Somebody, a...  \n",
       "4  [Nanny, In, Jail, After, Force, Feeding, Baby,...  "
      ]
     },
     "execution_count": 18,
     "metadata": {},
     "output_type": "execute_result"
    }
   ],
   "source": [
    "def remove_stopwords(text):\n",
    "    return [word for word in text if word not in stop_words]\n",
    "\n",
    "df_sampled['stop_word'] = df_sampled['tokenize'].apply(lambda x: remove_stopwords(x))\n",
    "\n",
    "df_sampled.head()"
   ]
  },
  {
   "cell_type": "code",
   "execution_count": 19,
   "metadata": {},
   "outputs": [
    {
     "name": "stderr",
     "output_type": "stream",
     "text": [
      "[nltk_data] Downloading package punkt to C:\\Users\\YOGA\n",
      "[nltk_data]     PRATAMA\\AppData\\Roaming\\nltk_data...\n",
      "[nltk_data]   Package punkt is already up-to-date!\n"
     ]
    },
    {
     "data": {
      "text/plain": [
       "True"
      ]
     },
     "execution_count": 19,
     "metadata": {},
     "output_type": "execute_result"
    }
   ],
   "source": [
    "import nltk\n",
    "from nltk.stem import PorterStemmer\n",
    "nltk.download('punkt')"
   ]
  },
  {
   "cell_type": "code",
   "execution_count": 20,
   "metadata": {},
   "outputs": [
    {
     "data": {
      "text/html": [
       "<div>\n",
       "<style scoped>\n",
       "    .dataframe tbody tr th:only-of-type {\n",
       "        vertical-align: middle;\n",
       "    }\n",
       "\n",
       "    .dataframe tbody tr th {\n",
       "        vertical-align: top;\n",
       "    }\n",
       "\n",
       "    .dataframe thead th {\n",
       "        text-align: right;\n",
       "    }\n",
       "</style>\n",
       "<table border=\"1\" class=\"dataframe\">\n",
       "  <thead>\n",
       "    <tr style=\"text-align: right;\">\n",
       "      <th></th>\n",
       "      <th>text</th>\n",
       "      <th>label</th>\n",
       "      <th>case_folding</th>\n",
       "      <th>tokenize</th>\n",
       "      <th>stop_word</th>\n",
       "      <th>stemming</th>\n",
       "    </tr>\n",
       "  </thead>\n",
       "  <tbody>\n",
       "    <tr>\n",
       "      <th>0</th>\n",
       "      <td>Will Trump pull a Brexit times ten What would ...</td>\n",
       "      <td>FAKE</td>\n",
       "      <td>will trump pull a brexit times ten what would ...</td>\n",
       "      <td>[Will, Trump, pull, a, Brexit, times, ten, Wha...</td>\n",
       "      <td>[Will, Trump, pull, Brexit, times, ten, What, ...</td>\n",
       "      <td>will trump pull brexit time ten what would tak...</td>\n",
       "    </tr>\n",
       "    <tr>\n",
       "      <th>1</th>\n",
       "      <td>Clintons Are Under Multiple FBI Investigations...</td>\n",
       "      <td>FAKE</td>\n",
       "      <td>clintons are under multiple fbi investigations...</td>\n",
       "      <td>[Clintons, Are, Under, Multiple, FBI, Investig...</td>\n",
       "      <td>[Clintons, Are, Under, Multiple, FBI, Investig...</td>\n",
       "      <td>clinton are under multipl fbi investig agent a...</td>\n",
       "    </tr>\n",
       "    <tr>\n",
       "      <th>2</th>\n",
       "      <td>Dispatches from Eric Zuesse This piece is cros...</td>\n",
       "      <td>FAKE</td>\n",
       "      <td>dispatches from eric zuesse this piece is cros...</td>\n",
       "      <td>[Dispatches, from, Eric, Zuesse, This, piece, ...</td>\n",
       "      <td>[Dispatches, Eric, Zuesse, This, piece, crossp...</td>\n",
       "      <td>dispatch eric zuess thi piec crosspost strateg...</td>\n",
       "    </tr>\n",
       "    <tr>\n",
       "      <th>3</th>\n",
       "      <td>Print Ed Every now and then the facade cracks ...</td>\n",
       "      <td>FAKE</td>\n",
       "      <td>print ed every now and then the facade cracks ...</td>\n",
       "      <td>[Print, Ed, Every, now, and, then, the, facade...</td>\n",
       "      <td>[Print, Ed, Every, facade, cracks, Somebody, a...</td>\n",
       "      <td>print ed everi facad crack somebodi ask questi...</td>\n",
       "    </tr>\n",
       "    <tr>\n",
       "      <th>4</th>\n",
       "      <td>Nanny In Jail After Force Feeding Baby To Deat...</td>\n",
       "      <td>FAKE</td>\n",
       "      <td>nanny in jail after force feeding baby to deat...</td>\n",
       "      <td>[Nanny, In, Jail, After, Force, Feeding, Baby,...</td>\n",
       "      <td>[Nanny, In, Jail, After, Force, Feeding, Baby,...</td>\n",
       "      <td>nanni in jail after forc feed babi to death 2 ...</td>\n",
       "    </tr>\n",
       "  </tbody>\n",
       "</table>\n",
       "</div>"
      ],
      "text/plain": [
       "                                                text label  \\\n",
       "0  Will Trump pull a Brexit times ten What would ...  FAKE   \n",
       "1  Clintons Are Under Multiple FBI Investigations...  FAKE   \n",
       "2  Dispatches from Eric Zuesse This piece is cros...  FAKE   \n",
       "3  Print Ed Every now and then the facade cracks ...  FAKE   \n",
       "4  Nanny In Jail After Force Feeding Baby To Deat...  FAKE   \n",
       "\n",
       "                                        case_folding  \\\n",
       "0  will trump pull a brexit times ten what would ...   \n",
       "1  clintons are under multiple fbi investigations...   \n",
       "2  dispatches from eric zuesse this piece is cros...   \n",
       "3  print ed every now and then the facade cracks ...   \n",
       "4  nanny in jail after force feeding baby to deat...   \n",
       "\n",
       "                                            tokenize  \\\n",
       "0  [Will, Trump, pull, a, Brexit, times, ten, Wha...   \n",
       "1  [Clintons, Are, Under, Multiple, FBI, Investig...   \n",
       "2  [Dispatches, from, Eric, Zuesse, This, piece, ...   \n",
       "3  [Print, Ed, Every, now, and, then, the, facade...   \n",
       "4  [Nanny, In, Jail, After, Force, Feeding, Baby,...   \n",
       "\n",
       "                                           stop_word  \\\n",
       "0  [Will, Trump, pull, Brexit, times, ten, What, ...   \n",
       "1  [Clintons, Are, Under, Multiple, FBI, Investig...   \n",
       "2  [Dispatches, Eric, Zuesse, This, piece, crossp...   \n",
       "3  [Print, Ed, Every, facade, cracks, Somebody, a...   \n",
       "4  [Nanny, In, Jail, After, Force, Feeding, Baby,...   \n",
       "\n",
       "                                            stemming  \n",
       "0  will trump pull brexit time ten what would tak...  \n",
       "1  clinton are under multipl fbi investig agent a...  \n",
       "2  dispatch eric zuess thi piec crosspost strateg...  \n",
       "3  print ed everi facad crack somebodi ask questi...  \n",
       "4  nanni in jail after forc feed babi to death 2 ...  "
      ]
     },
     "execution_count": 20,
     "metadata": {},
     "output_type": "execute_result"
    }
   ],
   "source": [
    "# Inisialisasi Porter Stemmer\n",
    "stemmer = PorterStemmer()\n",
    "\n",
    "def stemming(text):\n",
    "    return [stemmer.stem(word) for word in text]\n",
    "\n",
    "df_sampled['stemming'] = df_sampled['stop_word'].apply(lambda x: ' '.join(stemming(x)))\n",
    "df_sampled.head()"
   ]
  },
  {
   "cell_type": "code",
   "execution_count": 21,
   "metadata": {},
   "outputs": [
    {
     "data": {
      "text/plain": [
       "label\n",
       "FAKE    51.676122\n",
       "REAL    48.323878\n",
       "Name: proportion, dtype: float64"
      ]
     },
     "execution_count": 21,
     "metadata": {},
     "output_type": "execute_result"
    }
   ],
   "source": [
    "df_sampled['label'].value_counts(normalize=True) * 100"
   ]
  },
  {
   "cell_type": "code",
   "execution_count": 22,
   "metadata": {},
   "outputs": [
    {
     "name": "stdout",
     "output_type": "stream",
     "text": [
      "Shape of the original data: (1939, 55655)\n",
      "Shape of the data after SVD: (1939, 100)\n"
     ]
    }
   ],
   "source": [
    "from sklearn.decomposition import TruncatedSVD\n",
    "from sklearn.pipeline import make_pipeline\n",
    "from sklearn.preprocessing import Normalizer\n",
    "\n",
    "# Mengubah teks menjadi representasi vektor menggunakan TfidfVectorizer\n",
    "vectorizer = TfidfVectorizer()\n",
    "X = vectorizer.fit_transform(df_sampled['stemming'])\n",
    "\n",
    "# Menerapkan SVD\n",
    "svd = TruncatedSVD(n_components=100)\n",
    "normalizer = Normalizer(copy=False)\n",
    "lsa = make_pipeline(svd, normalizer)\n",
    "\n",
    "X_lsa = lsa.fit_transform(X)\n",
    "\n",
    "print(f\"Shape of the original data: {X.shape}\")\n",
    "print(f\"Shape of the data after SVD: {X_lsa.shape}\")"
   ]
  },
  {
   "cell_type": "code",
   "execution_count": 23,
   "metadata": {},
   "outputs": [],
   "source": [
    "tokenizer = Tokenizer(num_words=5000)\n",
    "tokenizer.fit_on_texts(df_sampled['stemming'])\n",
    "X = tokenizer.texts_to_sequences(df_sampled['stemming'])"
   ]
  },
  {
   "cell_type": "code",
   "execution_count": 24,
   "metadata": {},
   "outputs": [],
   "source": [
    "maxlen = 100\n",
    "X = pad_sequences(X, padding='post', maxlen=maxlen)"
   ]
  },
  {
   "cell_type": "code",
   "execution_count": 25,
   "metadata": {},
   "outputs": [],
   "source": [
    "X_train, X_test, y_train, y_test = train_test_split(X, df_sampled['label'], test_size=0.2, random_state=42)\n",
    "y_train = np.where(y_train == 'FAKE', 0, 1)\n",
    "y_test = np.where(y_test == 'FAKE', 0, 1)"
   ]
  },
  {
   "cell_type": "code",
   "execution_count": 26,
   "metadata": {},
   "outputs": [
    {
     "name": "stderr",
     "output_type": "stream",
     "text": [
      "c:\\Users\\YOGA PRATAMA\\anaconda3\\Lib\\site-packages\\keras\\src\\layers\\core\\embedding.py:90: UserWarning: Argument `input_length` is deprecated. Just remove it.\n",
      "  warnings.warn(\n"
     ]
    }
   ],
   "source": [
    "model = Sequential()\n",
    "model.add(Embedding(input_dim=5000, output_dim=100, input_length=maxlen))\n",
    "model.add(LSTM(units=128, dropout=0.2, recurrent_dropout=0.2))\n",
    "model.add(Dense(1, activation='sigmoid'))"
   ]
  },
  {
   "cell_type": "code",
   "execution_count": 27,
   "metadata": {},
   "outputs": [
    {
     "name": "stdout",
     "output_type": "stream",
     "text": [
      "Epoch 1/5\n",
      "\u001b[1m25/25\u001b[0m \u001b[32m━━━━━━━━━━━━━━━━━━━━\u001b[0m\u001b[37m\u001b[0m \u001b[1m9s\u001b[0m 174ms/step - accuracy: 0.5898 - loss: 0.6830 - val_accuracy: 0.7655 - val_loss: 0.6452\n",
      "Epoch 2/5\n",
      "\u001b[1m25/25\u001b[0m \u001b[32m━━━━━━━━━━━━━━━━━━━━\u001b[0m\u001b[37m\u001b[0m \u001b[1m3s\u001b[0m 127ms/step - accuracy: 0.8362 - loss: 0.5142 - val_accuracy: 0.8376 - val_loss: 0.3917\n",
      "Epoch 3/5\n",
      "\u001b[1m25/25\u001b[0m \u001b[32m━━━━━━━━━━━━━━━━━━━━\u001b[0m\u001b[37m\u001b[0m \u001b[1m3s\u001b[0m 130ms/step - accuracy: 0.9071 - loss: 0.3023 - val_accuracy: 0.7887 - val_loss: 0.7303\n",
      "Epoch 4/5\n",
      "\u001b[1m25/25\u001b[0m \u001b[32m━━━━━━━━━━━━━━━━━━━━\u001b[0m\u001b[37m\u001b[0m \u001b[1m4s\u001b[0m 142ms/step - accuracy: 0.9015 - loss: 0.3185 - val_accuracy: 0.8299 - val_loss: 0.4083\n",
      "Epoch 5/5\n",
      "\u001b[1m25/25\u001b[0m \u001b[32m━━━━━━━━━━━━━━━━━━━━\u001b[0m\u001b[37m\u001b[0m \u001b[1m4s\u001b[0m 150ms/step - accuracy: 0.9503 - loss: 0.1875 - val_accuracy: 0.8170 - val_loss: 0.5623\n"
     ]
    },
    {
     "data": {
      "text/plain": [
       "<keras.src.callbacks.history.History at 0x1d1e7890800>"
      ]
     },
     "execution_count": 27,
     "metadata": {},
     "output_type": "execute_result"
    }
   ],
   "source": [
    "model.compile(optimizer='adam', loss='binary_crossentropy', metrics=['accuracy'])\n",
    "model.fit(X_train, y_train, epochs=5, batch_size=64, validation_data=(X_test, y_test))"
   ]
  },
  {
   "cell_type": "code",
   "execution_count": 28,
   "metadata": {},
   "outputs": [
    {
     "name": "stdout",
     "output_type": "stream",
     "text": [
      "\u001b[1m13/13\u001b[0m \u001b[32m━━━━━━━━━━━━━━━━━━━━\u001b[0m\u001b[37m\u001b[0m \u001b[1m2s\u001b[0m 90ms/step\n",
      "Accuracy: 81.70%\n",
      "Confusion Matrix:\n",
      "[[178  23]\n",
      " [ 48 139]]\n"
     ]
    }
   ],
   "source": [
    "y_pred_prob = model.predict(X_test)\n",
    "y_pred = (y_pred_prob > 0.5).astype(\"int32\")\n",
    "accuracy = accuracy_score(y_test, y_pred)\n",
    "conf_matrix = confusion_matrix(y_test, y_pred)\n",
    "print(f\"Accuracy: {accuracy * 100:.2f}%\")\n",
    "print(\"Confusion Matrix:\")\n",
    "print(conf_matrix)"
   ]
  }
 ],
 "metadata": {
  "kernelspec": {
   "display_name": "base",
   "language": "python",
   "name": "python3"
  },
  "language_info": {
   "codemirror_mode": {
    "name": "ipython",
    "version": 3
   },
   "file_extension": ".py",
   "mimetype": "text/x-python",
   "name": "python",
   "nbconvert_exporter": "python",
   "pygments_lexer": "ipython3",
   "version": "3.12.3"
  }
 },
 "nbformat": 4,
 "nbformat_minor": 2
}
