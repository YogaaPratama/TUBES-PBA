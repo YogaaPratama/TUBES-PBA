{
 "cells": [
  {
   "cell_type": "markdown",
   "metadata": {},
   "source": [
    "## Import Library"
   ]
  },
  {
   "cell_type": "code",
   "execution_count": 1,
   "metadata": {},
   "outputs": [],
   "source": [
    "import numpy\n",
    "import pandas as pd\n",
    "import re\n",
    "import tensorflow\n",
    "import nltk\n",
    "import matplotlib.pyplot as plt\n",
    "import seaborn as sns\n",
    "from tensorflow.keras.models import Sequential\n",
    "from tensorflow.keras.layers import LSTM, Dense\n",
    "from sklearn.model_selection import train_test_split\n",
    "from sklearn.feature_extraction.text import TfidfVectorizer\n",
    "from sklearn.metrics import accuracy_score, confusion_matrix\n",
    "from nltk.corpus import stopwords\n",
    "from nltk.stem import PorterStemmer\n",
    "from sklearn.preprocessing import LabelEncoder\n",
    "from sklearn.decomposition import TruncatedSVD\n",
    "from sklearn.preprocessing import Normalizer\n",
    "from sklearn.pipeline import make_pipeline\n",
    "from sklearn.metrics import classification_report, confusion_matrix"
   ]
  },
  {
   "cell_type": "markdown",
   "metadata": {},
   "source": [
    "## Membaca dataset"
   ]
  },
  {
   "cell_type": "code",
   "execution_count": 2,
   "metadata": {},
   "outputs": [],
   "source": [
    "df_sampled = pd.read_csv('sampled_news.csv')"
   ]
  },
  {
   "cell_type": "markdown",
   "metadata": {},
   "source": [
    "## Menampilkan Ukuran Dataset"
   ]
  },
  {
   "cell_type": "code",
   "execution_count": 3,
   "metadata": {},
   "outputs": [
    {
     "data": {
      "text/plain": [
       "(2000, 4)"
      ]
     },
     "execution_count": 3,
     "metadata": {},
     "output_type": "execute_result"
    }
   ],
   "source": [
    "df_sampled.shape"
   ]
  },
  {
   "cell_type": "markdown",
   "metadata": {},
   "source": [
    "## Menampilkan Informasi Dataset"
   ]
  },
  {
   "cell_type": "code",
   "execution_count": 4,
   "metadata": {},
   "outputs": [
    {
     "name": "stdout",
     "output_type": "stream",
     "text": [
      "<class 'pandas.core.frame.DataFrame'>\n",
      "RangeIndex: 2000 entries, 0 to 1999\n",
      "Data columns (total 4 columns):\n",
      " #   Column      Non-Null Count  Dtype \n",
      "---  ------      --------------  ----- \n",
      " 0   Unnamed: 0  2000 non-null   int64 \n",
      " 1   title       2000 non-null   object\n",
      " 2   text        2000 non-null   object\n",
      " 3   label       2000 non-null   object\n",
      "dtypes: int64(1), object(3)\n",
      "memory usage: 62.6+ KB\n"
     ]
    }
   ],
   "source": [
    "df_sampled.info()"
   ]
  },
  {
   "cell_type": "markdown",
   "metadata": {},
   "source": [
    "## Proporsi Label\n",
    "\n",
    "Tahap ini menghitung distribusi persentase dari nilai pada kolom label untuk memahami proporsi antara label FAKE dan REAL."
   ]
  },
  {
   "cell_type": "code",
   "execution_count": 5,
   "metadata": {},
   "outputs": [
    {
     "data": {
      "text/plain": [
       "label\n",
       "FAKE    51.15\n",
       "REAL    48.85\n",
       "Name: proportion, dtype: float64"
      ]
     },
     "execution_count": 5,
     "metadata": {},
     "output_type": "execute_result"
    }
   ],
   "source": [
    "df_sampled['label'].value_counts(normalize=True) * 100"
   ]
  },
  {
   "cell_type": "code",
   "execution_count": 6,
   "metadata": {},
   "outputs": [
    {
     "data": {
      "text/html": [
       "<div>\n",
       "<style scoped>\n",
       "    .dataframe tbody tr th:only-of-type {\n",
       "        vertical-align: middle;\n",
       "    }\n",
       "\n",
       "    .dataframe tbody tr th {\n",
       "        vertical-align: top;\n",
       "    }\n",
       "\n",
       "    .dataframe thead th {\n",
       "        text-align: right;\n",
       "    }\n",
       "</style>\n",
       "<table border=\"1\" class=\"dataframe\">\n",
       "  <thead>\n",
       "    <tr style=\"text-align: right;\">\n",
       "      <th></th>\n",
       "      <th>Unnamed: 0</th>\n",
       "      <th>title</th>\n",
       "      <th>text</th>\n",
       "      <th>label</th>\n",
       "    </tr>\n",
       "  </thead>\n",
       "  <tbody>\n",
       "    <tr>\n",
       "      <th>0</th>\n",
       "      <td>9957</td>\n",
       "      <td>American Dream, Revisited</td>\n",
       "      <td>Will Trump pull a Brexit times ten? What would...</td>\n",
       "      <td>FAKE</td>\n",
       "    </tr>\n",
       "    <tr>\n",
       "      <th>1</th>\n",
       "      <td>7596</td>\n",
       "      <td>Clintons Are Under Multiple FBI Investigations...</td>\n",
       "      <td>Clintons Are Under Multiple FBI Investigations...</td>\n",
       "      <td>FAKE</td>\n",
       "    </tr>\n",
       "    <tr>\n",
       "      <th>2</th>\n",
       "      <td>8905</td>\n",
       "      <td>The FBI Can’t Actually Investigate a Candidate...</td>\n",
       "      <td>Dispatches from Eric Zuesse This piece is cros...</td>\n",
       "      <td>FAKE</td>\n",
       "    </tr>\n",
       "    <tr>\n",
       "      <th>3</th>\n",
       "      <td>8752</td>\n",
       "      <td>Confirmed: Public overwhelmingly (10-to-1) say...</td>\n",
       "      <td>Print \\n[Ed. – Every now and then the facade c...</td>\n",
       "      <td>FAKE</td>\n",
       "    </tr>\n",
       "    <tr>\n",
       "      <th>4</th>\n",
       "      <td>7804</td>\n",
       "      <td>Nanny In Jail After Force Feeding Baby To Death</td>\n",
       "      <td>Nanny In Jail After Force Feeding Baby To Deat...</td>\n",
       "      <td>FAKE</td>\n",
       "    </tr>\n",
       "    <tr>\n",
       "      <th>...</th>\n",
       "      <td>...</td>\n",
       "      <td>...</td>\n",
       "      <td>...</td>\n",
       "      <td>...</td>\n",
       "    </tr>\n",
       "    <tr>\n",
       "      <th>1995</th>\n",
       "      <td>7805</td>\n",
       "      <td>Saudis Foil ISIS Terror Attacks on Packed Stadium</td>\n",
       "      <td>Saudi Arabia says it has thwarted two ISIS ter...</td>\n",
       "      <td>FAKE</td>\n",
       "    </tr>\n",
       "    <tr>\n",
       "      <th>1996</th>\n",
       "      <td>10287</td>\n",
       "      <td>Police Department Is Being Evicted – Lafayette...</td>\n",
       "      <td>\\nAn East Bay police department is now looking...</td>\n",
       "      <td>FAKE</td>\n",
       "    </tr>\n",
       "    <tr>\n",
       "      <th>1997</th>\n",
       "      <td>1176</td>\n",
       "      <td>Trump, Sanders Crush the Competition in New Ha...</td>\n",
       "      <td>Democrat Bernie Sanders and Republican Donald ...</td>\n",
       "      <td>REAL</td>\n",
       "    </tr>\n",
       "    <tr>\n",
       "      <th>1998</th>\n",
       "      <td>5951</td>\n",
       "      <td>The words Extraordinary Claims needs to be ban...</td>\n",
       "      <td>The words Extraordinary Claims needs to be ban...</td>\n",
       "      <td>FAKE</td>\n",
       "    </tr>\n",
       "    <tr>\n",
       "      <th>1999</th>\n",
       "      <td>6111</td>\n",
       "      <td>Britain No Longer a Sovereign Democracy</td>\n",
       "      <td>Home | World | Britain No Longer a Sovereign D...</td>\n",
       "      <td>FAKE</td>\n",
       "    </tr>\n",
       "  </tbody>\n",
       "</table>\n",
       "<p>2000 rows × 4 columns</p>\n",
       "</div>"
      ],
      "text/plain": [
       "      Unnamed: 0                                              title  \\\n",
       "0           9957                          American Dream, Revisited   \n",
       "1           7596  Clintons Are Under Multiple FBI Investigations...   \n",
       "2           8905  The FBI Can’t Actually Investigate a Candidate...   \n",
       "3           8752  Confirmed: Public overwhelmingly (10-to-1) say...   \n",
       "4           7804    Nanny In Jail After Force Feeding Baby To Death   \n",
       "...          ...                                                ...   \n",
       "1995        7805  Saudis Foil ISIS Terror Attacks on Packed Stadium   \n",
       "1996       10287  Police Department Is Being Evicted – Lafayette...   \n",
       "1997        1176  Trump, Sanders Crush the Competition in New Ha...   \n",
       "1998        5951  The words Extraordinary Claims needs to be ban...   \n",
       "1999        6111            Britain No Longer a Sovereign Democracy   \n",
       "\n",
       "                                                   text label  \n",
       "0     Will Trump pull a Brexit times ten? What would...  FAKE  \n",
       "1     Clintons Are Under Multiple FBI Investigations...  FAKE  \n",
       "2     Dispatches from Eric Zuesse This piece is cros...  FAKE  \n",
       "3     Print \\n[Ed. – Every now and then the facade c...  FAKE  \n",
       "4     Nanny In Jail After Force Feeding Baby To Deat...  FAKE  \n",
       "...                                                 ...   ...  \n",
       "1995  Saudi Arabia says it has thwarted two ISIS ter...  FAKE  \n",
       "1996  \\nAn East Bay police department is now looking...  FAKE  \n",
       "1997  Democrat Bernie Sanders and Republican Donald ...  REAL  \n",
       "1998  The words Extraordinary Claims needs to be ban...  FAKE  \n",
       "1999  Home | World | Britain No Longer a Sovereign D...  FAKE  \n",
       "\n",
       "[2000 rows x 4 columns]"
      ]
     },
     "execution_count": 6,
     "metadata": {},
     "output_type": "execute_result"
    }
   ],
   "source": [
    "df_sampled"
   ]
  },
  {
   "cell_type": "markdown",
   "metadata": {},
   "source": [
    "## Mengahapus Kolom yang Tidak Diperlukan"
   ]
  },
  {
   "cell_type": "code",
   "execution_count": 7,
   "metadata": {},
   "outputs": [
    {
     "data": {
      "text/html": [
       "<div>\n",
       "<style scoped>\n",
       "    .dataframe tbody tr th:only-of-type {\n",
       "        vertical-align: middle;\n",
       "    }\n",
       "\n",
       "    .dataframe tbody tr th {\n",
       "        vertical-align: top;\n",
       "    }\n",
       "\n",
       "    .dataframe thead th {\n",
       "        text-align: right;\n",
       "    }\n",
       "</style>\n",
       "<table border=\"1\" class=\"dataframe\">\n",
       "  <thead>\n",
       "    <tr style=\"text-align: right;\">\n",
       "      <th></th>\n",
       "      <th>text</th>\n",
       "      <th>label</th>\n",
       "    </tr>\n",
       "  </thead>\n",
       "  <tbody>\n",
       "    <tr>\n",
       "      <th>0</th>\n",
       "      <td>Will Trump pull a Brexit times ten? What would...</td>\n",
       "      <td>FAKE</td>\n",
       "    </tr>\n",
       "    <tr>\n",
       "      <th>1</th>\n",
       "      <td>Clintons Are Under Multiple FBI Investigations...</td>\n",
       "      <td>FAKE</td>\n",
       "    </tr>\n",
       "    <tr>\n",
       "      <th>2</th>\n",
       "      <td>Dispatches from Eric Zuesse This piece is cros...</td>\n",
       "      <td>FAKE</td>\n",
       "    </tr>\n",
       "    <tr>\n",
       "      <th>3</th>\n",
       "      <td>Print \\n[Ed. – Every now and then the facade c...</td>\n",
       "      <td>FAKE</td>\n",
       "    </tr>\n",
       "    <tr>\n",
       "      <th>4</th>\n",
       "      <td>Nanny In Jail After Force Feeding Baby To Deat...</td>\n",
       "      <td>FAKE</td>\n",
       "    </tr>\n",
       "  </tbody>\n",
       "</table>\n",
       "</div>"
      ],
      "text/plain": [
       "                                                text label\n",
       "0  Will Trump pull a Brexit times ten? What would...  FAKE\n",
       "1  Clintons Are Under Multiple FBI Investigations...  FAKE\n",
       "2  Dispatches from Eric Zuesse This piece is cros...  FAKE\n",
       "3  Print \\n[Ed. – Every now and then the facade c...  FAKE\n",
       "4  Nanny In Jail After Force Feeding Baby To Deat...  FAKE"
      ]
     },
     "execution_count": 7,
     "metadata": {},
     "output_type": "execute_result"
    }
   ],
   "source": [
    "if 'Unnamed: 0' in df_sampled.columns:\n",
    "\tdf_sampled.drop(columns=['Unnamed: 0'], inplace=True)\n",
    "if 'title' in df_sampled.columns:\n",
    "\tdf_sampled.drop(columns=['title'], inplace=True)\n",
    "df_sampled.head()"
   ]
  },
  {
   "cell_type": "markdown",
   "metadata": {},
   "source": [
    "## Memastikan kolom `text` dan `label` bertipe data string"
   ]
  },
  {
   "cell_type": "code",
   "execution_count": 8,
   "metadata": {},
   "outputs": [
    {
     "name": "stdout",
     "output_type": "stream",
     "text": [
      "<class 'pandas.core.frame.DataFrame'>\n",
      "RangeIndex: 2000 entries, 0 to 1999\n",
      "Data columns (total 2 columns):\n",
      " #   Column  Non-Null Count  Dtype \n",
      "---  ------  --------------  ----- \n",
      " 0   text    2000 non-null   object\n",
      " 1   label   2000 non-null   object\n",
      "dtypes: object(2)\n",
      "memory usage: 31.4+ KB\n"
     ]
    }
   ],
   "source": [
    "df_sampled['text'] = df_sampled['text'].astype(str)\n",
    "df_sampled['label'] = df_sampled['label'].astype(str)\n",
    "df_sampled.info()"
   ]
  },
  {
   "cell_type": "markdown",
   "metadata": {},
   "source": [
    "## Menghapus duplikat data "
   ]
  },
  {
   "cell_type": "code",
   "execution_count": 9,
   "metadata": {},
   "outputs": [
    {
     "name": "stdout",
     "output_type": "stream",
     "text": [
      "61\n",
      "Jumlah baris duplikat: 61\n",
      "Baris duplikat:\n",
      "                                                   text label\n",
      "187                                                      FAKE\n",
      "188                                                      FAKE\n",
      "240   Killing Obama administration rules, dismantlin...  REAL\n",
      "243   A verdict in 2017 could have sweeping conseque...  REAL\n",
      "253                                                      FAKE\n",
      "...                                                 ...   ...\n",
      "1780  The president refuses to say he’d hold to the ...  REAL\n",
      "1816  Nation Puts 2016 Election Into Perspective By ...  FAKE\n",
      "1829  The move would make it easier for the Trump ad...  REAL\n",
      "1877  Nation Puts 2016 Election Into Perspective By ...  FAKE\n",
      "1936  Killing Obama administration rules, dismantlin...  REAL\n",
      "\n",
      "[61 rows x 2 columns]\n"
     ]
    }
   ],
   "source": [
    "# Mengecek duplikat baris di dataset\n",
    "duplikat = df_sampled.duplicated(subset='text')\n",
    "print(duplikat.sum())  # Menghitung jumlah duplikat\n",
    "\n",
    "# Menampilkan jumlah baris yang duplikat\n",
    "print(f\"Jumlah baris duplikat: {duplikat.sum()}\")\n",
    "\n",
    "# Menampilkan baris-baris yang duplikat\n",
    "duplikat_baris = df_sampled[df_sampled.duplicated(subset='text')]\n",
    "print(\"Baris duplikat:\")\n",
    "print(duplikat_baris)"
   ]
  },
  {
   "cell_type": "code",
   "execution_count": 10,
   "metadata": {},
   "outputs": [
    {
     "name": "stdout",
     "output_type": "stream",
     "text": [
      "0\n",
      "Jumlah baris duplikat: 0\n",
      "Baris duplikat:\n",
      "Empty DataFrame\n",
      "Columns: [text, label]\n",
      "Index: []\n",
      "<class 'pandas.core.frame.DataFrame'>\n",
      "Index: 1939 entries, 0 to 1999\n",
      "Data columns (total 2 columns):\n",
      " #   Column  Non-Null Count  Dtype \n",
      "---  ------  --------------  ----- \n",
      " 0   text    1939 non-null   object\n",
      " 1   label   1939 non-null   object\n",
      "dtypes: object(2)\n",
      "memory usage: 45.4+ KB\n"
     ]
    }
   ],
   "source": [
    "# Menghapus duplikat\n",
    "df_sampled.drop_duplicates(subset=\"text\", keep='first', inplace=True)  # Menghapus duplikat\n",
    "\n",
    "# Mengecek duplikat baris di dataset\n",
    "duplikat = df_sampled.duplicated(subset='text')\n",
    "print(duplikat.sum())  # Menghitung jumlah duplikat\n",
    "\n",
    "# Menampilkan jumlah baris yang duplikat\n",
    "print(f\"Jumlah baris duplikat: {duplikat.sum()}\")\n",
    "\n",
    "# Menampilkan baris-baris yang duplikat\n",
    "duplikat_baris = df_sampled[df_sampled.duplicated(subset='text')]\n",
    "print(\"Baris duplikat:\")\n",
    "print(duplikat_baris)\n",
    "\n",
    "df_sampled.info()"
   ]
  },
  {
   "cell_type": "markdown",
   "metadata": {},
   "source": [
    "## Preprocessing Data"
   ]
  },
  {
   "cell_type": "markdown",
   "metadata": {},
   "source": [
    "### 1. Menghapus karakter khusus (data cleansing)"
   ]
  },
  {
   "cell_type": "code",
   "execution_count": 11,
   "metadata": {},
   "outputs": [],
   "source": [
    "def clean_twitter_text(text):\n",
    "    text = re.sub(r'@[A-Za-z0-9_]+', '', text)  # Menghapus mention\n",
    "    text = re.sub(r'#\\w+', '', text)  # Menghapus hashtag\n",
    "    text = re.sub(r'RT[\\s]+', '', text)  # Menghapus retweet\n",
    "    text = re.sub(r'https?://\\S+', '', text)  # Menghapus URL\n",
    "    text = re.sub(r'[^A-Za-z0-9 ]', '', text)  # Menghapus karakter non-alphanumeric\n",
    "    text = re.sub(r'\\s+', ' ', text).strip()  # Menghapus spasi berlebih\n",
    "\n",
    "    return text\n",
    "\n",
    "df_sampled['text'] = df_sampled['text'].apply(clean_twitter_text)"
   ]
  },
  {
   "cell_type": "markdown",
   "metadata": {},
   "source": [
    "### 2. Mengubah teks menjadi lowercase (case folding)"
   ]
  },
  {
   "cell_type": "code",
   "execution_count": 12,
   "metadata": {},
   "outputs": [
    {
     "data": {
      "text/html": [
       "<div>\n",
       "<style scoped>\n",
       "    .dataframe tbody tr th:only-of-type {\n",
       "        vertical-align: middle;\n",
       "    }\n",
       "\n",
       "    .dataframe tbody tr th {\n",
       "        vertical-align: top;\n",
       "    }\n",
       "\n",
       "    .dataframe thead th {\n",
       "        text-align: right;\n",
       "    }\n",
       "</style>\n",
       "<table border=\"1\" class=\"dataframe\">\n",
       "  <thead>\n",
       "    <tr style=\"text-align: right;\">\n",
       "      <th></th>\n",
       "      <th>text</th>\n",
       "      <th>label</th>\n",
       "      <th>case_folding</th>\n",
       "    </tr>\n",
       "  </thead>\n",
       "  <tbody>\n",
       "    <tr>\n",
       "      <th>0</th>\n",
       "      <td>Will Trump pull a Brexit times ten What would ...</td>\n",
       "      <td>FAKE</td>\n",
       "      <td>will trump pull a brexit times ten what would ...</td>\n",
       "    </tr>\n",
       "    <tr>\n",
       "      <th>1</th>\n",
       "      <td>Clintons Are Under Multiple FBI Investigations...</td>\n",
       "      <td>FAKE</td>\n",
       "      <td>clintons are under multiple fbi investigations...</td>\n",
       "    </tr>\n",
       "    <tr>\n",
       "      <th>2</th>\n",
       "      <td>Dispatches from Eric Zuesse This piece is cros...</td>\n",
       "      <td>FAKE</td>\n",
       "      <td>dispatches from eric zuesse this piece is cros...</td>\n",
       "    </tr>\n",
       "    <tr>\n",
       "      <th>3</th>\n",
       "      <td>Print Ed Every now and then the facade cracks ...</td>\n",
       "      <td>FAKE</td>\n",
       "      <td>print ed every now and then the facade cracks ...</td>\n",
       "    </tr>\n",
       "    <tr>\n",
       "      <th>4</th>\n",
       "      <td>Nanny In Jail After Force Feeding Baby To Deat...</td>\n",
       "      <td>FAKE</td>\n",
       "      <td>nanny in jail after force feeding baby to deat...</td>\n",
       "    </tr>\n",
       "  </tbody>\n",
       "</table>\n",
       "</div>"
      ],
      "text/plain": [
       "                                                text label  \\\n",
       "0  Will Trump pull a Brexit times ten What would ...  FAKE   \n",
       "1  Clintons Are Under Multiple FBI Investigations...  FAKE   \n",
       "2  Dispatches from Eric Zuesse This piece is cros...  FAKE   \n",
       "3  Print Ed Every now and then the facade cracks ...  FAKE   \n",
       "4  Nanny In Jail After Force Feeding Baby To Deat...  FAKE   \n",
       "\n",
       "                                        case_folding  \n",
       "0  will trump pull a brexit times ten what would ...  \n",
       "1  clintons are under multiple fbi investigations...  \n",
       "2  dispatches from eric zuesse this piece is cros...  \n",
       "3  print ed every now and then the facade cracks ...  \n",
       "4  nanny in jail after force feeding baby to deat...  "
      ]
     },
     "execution_count": 12,
     "metadata": {},
     "output_type": "execute_result"
    }
   ],
   "source": [
    "# Fungsi ini mengubah teks menjadi huruf kecil\n",
    "def case_folding(text):\n",
    "    # Memeriksa apakah input adalah string\n",
    "    if isinstance(text, str):\n",
    "        # Mengubah teks menjadi huruf kecil\n",
    "        lowercase_text = text.lower()\n",
    "        # Mengembalikan teks yang sudah diubah menjadi huruf kecil\n",
    "        return lowercase_text\n",
    "    else:\n",
    "        # Jika input bukan string, kembalikan input asli\n",
    "        return text\n",
    "\n",
    "# Menerapkan fungsi case_folding ke kolom 'text' dan menyimpannya di kolom 'case_folding'\n",
    "df_sampled['case_folding'] = df_sampled['text'].apply(case_folding)\n",
    "\n",
    "# Menampilkan 5 baris pertama dari dataframe\n",
    "df_sampled.head()"
   ]
  },
  {
   "cell_type": "markdown",
   "metadata": {},
   "source": [
    "### 3. Tokenisasi"
   ]
  },
  {
   "cell_type": "code",
   "execution_count": 13,
   "metadata": {},
   "outputs": [
    {
     "data": {
      "text/html": [
       "<div>\n",
       "<style scoped>\n",
       "    .dataframe tbody tr th:only-of-type {\n",
       "        vertical-align: middle;\n",
       "    }\n",
       "\n",
       "    .dataframe tbody tr th {\n",
       "        vertical-align: top;\n",
       "    }\n",
       "\n",
       "    .dataframe thead th {\n",
       "        text-align: right;\n",
       "    }\n",
       "</style>\n",
       "<table border=\"1\" class=\"dataframe\">\n",
       "  <thead>\n",
       "    <tr style=\"text-align: right;\">\n",
       "      <th></th>\n",
       "      <th>text</th>\n",
       "      <th>label</th>\n",
       "      <th>case_folding</th>\n",
       "      <th>tokenize</th>\n",
       "    </tr>\n",
       "  </thead>\n",
       "  <tbody>\n",
       "    <tr>\n",
       "      <th>0</th>\n",
       "      <td>Will Trump pull a Brexit times ten What would ...</td>\n",
       "      <td>FAKE</td>\n",
       "      <td>will trump pull a brexit times ten what would ...</td>\n",
       "      <td>[Will, Trump, pull, a, Brexit, times, ten, Wha...</td>\n",
       "    </tr>\n",
       "    <tr>\n",
       "      <th>1</th>\n",
       "      <td>Clintons Are Under Multiple FBI Investigations...</td>\n",
       "      <td>FAKE</td>\n",
       "      <td>clintons are under multiple fbi investigations...</td>\n",
       "      <td>[Clintons, Are, Under, Multiple, FBI, Investig...</td>\n",
       "    </tr>\n",
       "    <tr>\n",
       "      <th>2</th>\n",
       "      <td>Dispatches from Eric Zuesse This piece is cros...</td>\n",
       "      <td>FAKE</td>\n",
       "      <td>dispatches from eric zuesse this piece is cros...</td>\n",
       "      <td>[Dispatches, from, Eric, Zuesse, This, piece, ...</td>\n",
       "    </tr>\n",
       "    <tr>\n",
       "      <th>3</th>\n",
       "      <td>Print Ed Every now and then the facade cracks ...</td>\n",
       "      <td>FAKE</td>\n",
       "      <td>print ed every now and then the facade cracks ...</td>\n",
       "      <td>[Print, Ed, Every, now, and, then, the, facade...</td>\n",
       "    </tr>\n",
       "    <tr>\n",
       "      <th>4</th>\n",
       "      <td>Nanny In Jail After Force Feeding Baby To Deat...</td>\n",
       "      <td>FAKE</td>\n",
       "      <td>nanny in jail after force feeding baby to deat...</td>\n",
       "      <td>[Nanny, In, Jail, After, Force, Feeding, Baby,...</td>\n",
       "    </tr>\n",
       "  </tbody>\n",
       "</table>\n",
       "</div>"
      ],
      "text/plain": [
       "                                                text label  \\\n",
       "0  Will Trump pull a Brexit times ten What would ...  FAKE   \n",
       "1  Clintons Are Under Multiple FBI Investigations...  FAKE   \n",
       "2  Dispatches from Eric Zuesse This piece is cros...  FAKE   \n",
       "3  Print Ed Every now and then the facade cracks ...  FAKE   \n",
       "4  Nanny In Jail After Force Feeding Baby To Deat...  FAKE   \n",
       "\n",
       "                                        case_folding  \\\n",
       "0  will trump pull a brexit times ten what would ...   \n",
       "1  clintons are under multiple fbi investigations...   \n",
       "2  dispatches from eric zuesse this piece is cros...   \n",
       "3  print ed every now and then the facade cracks ...   \n",
       "4  nanny in jail after force feeding baby to deat...   \n",
       "\n",
       "                                            tokenize  \n",
       "0  [Will, Trump, pull, a, Brexit, times, ten, Wha...  \n",
       "1  [Clintons, Are, Under, Multiple, FBI, Investig...  \n",
       "2  [Dispatches, from, Eric, Zuesse, This, piece, ...  \n",
       "3  [Print, Ed, Every, now, and, then, the, facade...  \n",
       "4  [Nanny, In, Jail, After, Force, Feeding, Baby,...  "
      ]
     },
     "execution_count": 13,
     "metadata": {},
     "output_type": "execute_result"
    }
   ],
   "source": [
    "# Fungsi untuk melakukan tokenisasi teks menjadi kata-kata individual\n",
    "def tokenize(text):\n",
    "    # Memecah teks menjadi array kata-kata berdasarkan spasi\n",
    "    tokens = text.split()\n",
    "    # Mengembalikan array kata-kata hasil tokenisasi\n",
    "    return tokens\n",
    "\n",
    "# Menerapkan fungsi tokenize ke kolom 'text' dan menyimpan hasilnya di kolom 'tokenize'\n",
    "df_sampled['tokenize'] = df_sampled['text'].apply(tokenize)\n",
    "\n",
    "# Menampilkan 5 baris pertama dari dataframe untuk melihat hasil tokenisasi\n",
    "df_sampled.head()"
   ]
  },
  {
   "cell_type": "markdown",
   "metadata": {},
   "source": [
    "### 4. Stopwords Removal"
   ]
  },
  {
   "cell_type": "code",
   "execution_count": 14,
   "metadata": {},
   "outputs": [
    {
     "name": "stderr",
     "output_type": "stream",
     "text": [
      "[nltk_data] Error loading stopwords: Remote end closed connection\n",
      "[nltk_data]     without response\n"
     ]
    }
   ],
   "source": [
    "# Mengunduh stopwords\n",
    "nltk.download('stopwords')\n",
    "\n",
    "# Mengambil stopwords dari bahasa Inggris\n",
    "stop_words = set(stopwords.words('english'))"
   ]
  },
  {
   "cell_type": "code",
   "execution_count": 15,
   "metadata": {},
   "outputs": [
    {
     "data": {
      "text/html": [
       "<div>\n",
       "<style scoped>\n",
       "    .dataframe tbody tr th:only-of-type {\n",
       "        vertical-align: middle;\n",
       "    }\n",
       "\n",
       "    .dataframe tbody tr th {\n",
       "        vertical-align: top;\n",
       "    }\n",
       "\n",
       "    .dataframe thead th {\n",
       "        text-align: right;\n",
       "    }\n",
       "</style>\n",
       "<table border=\"1\" class=\"dataframe\">\n",
       "  <thead>\n",
       "    <tr style=\"text-align: right;\">\n",
       "      <th></th>\n",
       "      <th>text</th>\n",
       "      <th>label</th>\n",
       "      <th>case_folding</th>\n",
       "      <th>tokenize</th>\n",
       "      <th>stop_word</th>\n",
       "    </tr>\n",
       "  </thead>\n",
       "  <tbody>\n",
       "    <tr>\n",
       "      <th>0</th>\n",
       "      <td>Will Trump pull a Brexit times ten What would ...</td>\n",
       "      <td>FAKE</td>\n",
       "      <td>will trump pull a brexit times ten what would ...</td>\n",
       "      <td>[Will, Trump, pull, a, Brexit, times, ten, Wha...</td>\n",
       "      <td>[Will, Trump, pull, Brexit, times, ten, What, ...</td>\n",
       "    </tr>\n",
       "    <tr>\n",
       "      <th>1</th>\n",
       "      <td>Clintons Are Under Multiple FBI Investigations...</td>\n",
       "      <td>FAKE</td>\n",
       "      <td>clintons are under multiple fbi investigations...</td>\n",
       "      <td>[Clintons, Are, Under, Multiple, FBI, Investig...</td>\n",
       "      <td>[Clintons, Are, Under, Multiple, FBI, Investig...</td>\n",
       "    </tr>\n",
       "    <tr>\n",
       "      <th>2</th>\n",
       "      <td>Dispatches from Eric Zuesse This piece is cros...</td>\n",
       "      <td>FAKE</td>\n",
       "      <td>dispatches from eric zuesse this piece is cros...</td>\n",
       "      <td>[Dispatches, from, Eric, Zuesse, This, piece, ...</td>\n",
       "      <td>[Dispatches, Eric, Zuesse, This, piece, crossp...</td>\n",
       "    </tr>\n",
       "    <tr>\n",
       "      <th>3</th>\n",
       "      <td>Print Ed Every now and then the facade cracks ...</td>\n",
       "      <td>FAKE</td>\n",
       "      <td>print ed every now and then the facade cracks ...</td>\n",
       "      <td>[Print, Ed, Every, now, and, then, the, facade...</td>\n",
       "      <td>[Print, Ed, Every, facade, cracks, Somebody, a...</td>\n",
       "    </tr>\n",
       "    <tr>\n",
       "      <th>4</th>\n",
       "      <td>Nanny In Jail After Force Feeding Baby To Deat...</td>\n",
       "      <td>FAKE</td>\n",
       "      <td>nanny in jail after force feeding baby to deat...</td>\n",
       "      <td>[Nanny, In, Jail, After, Force, Feeding, Baby,...</td>\n",
       "      <td>[Nanny, In, Jail, After, Force, Feeding, Baby,...</td>\n",
       "    </tr>\n",
       "  </tbody>\n",
       "</table>\n",
       "</div>"
      ],
      "text/plain": [
       "                                                text label  \\\n",
       "0  Will Trump pull a Brexit times ten What would ...  FAKE   \n",
       "1  Clintons Are Under Multiple FBI Investigations...  FAKE   \n",
       "2  Dispatches from Eric Zuesse This piece is cros...  FAKE   \n",
       "3  Print Ed Every now and then the facade cracks ...  FAKE   \n",
       "4  Nanny In Jail After Force Feeding Baby To Deat...  FAKE   \n",
       "\n",
       "                                        case_folding  \\\n",
       "0  will trump pull a brexit times ten what would ...   \n",
       "1  clintons are under multiple fbi investigations...   \n",
       "2  dispatches from eric zuesse this piece is cros...   \n",
       "3  print ed every now and then the facade cracks ...   \n",
       "4  nanny in jail after force feeding baby to deat...   \n",
       "\n",
       "                                            tokenize  \\\n",
       "0  [Will, Trump, pull, a, Brexit, times, ten, Wha...   \n",
       "1  [Clintons, Are, Under, Multiple, FBI, Investig...   \n",
       "2  [Dispatches, from, Eric, Zuesse, This, piece, ...   \n",
       "3  [Print, Ed, Every, now, and, then, the, facade...   \n",
       "4  [Nanny, In, Jail, After, Force, Feeding, Baby,...   \n",
       "\n",
       "                                           stop_word  \n",
       "0  [Will, Trump, pull, Brexit, times, ten, What, ...  \n",
       "1  [Clintons, Are, Under, Multiple, FBI, Investig...  \n",
       "2  [Dispatches, Eric, Zuesse, This, piece, crossp...  \n",
       "3  [Print, Ed, Every, facade, cracks, Somebody, a...  \n",
       "4  [Nanny, In, Jail, After, Force, Feeding, Baby,...  "
      ]
     },
     "execution_count": 15,
     "metadata": {},
     "output_type": "execute_result"
    }
   ],
   "source": [
    "# Fungsi untuk menghapus stopwords dari array kata-kata\n",
    "def remove_stopwords(text):\n",
    "    # Membuat list baru dengan kata-kata yang bukan stopwords menggunakan list comprehension\n",
    "    return [word for word in text if word not in stop_words]\n",
    "\n",
    "# Menerapkan fungsi remove_stopwords ke kolom 'tokenize' menggunakan lambda function dan menyimpan hasilnya di kolom 'stop_word'\n",
    "df_sampled['stop_word'] = df_sampled['tokenize'].apply(lambda x: remove_stopwords(x))\n",
    "\n",
    "# Menampilkan 5 baris pertama dari dataframe untuk melihat hasil penghapusan stopwords\n",
    "df_sampled.head()"
   ]
  },
  {
   "cell_type": "markdown",
   "metadata": {},
   "source": [
    "### 5. Stemming"
   ]
  },
  {
   "cell_type": "code",
   "execution_count": 16,
   "metadata": {},
   "outputs": [
    {
     "name": "stderr",
     "output_type": "stream",
     "text": [
      "[nltk_data] Downloading package punkt to C:\\Users\\YOGA\n",
      "[nltk_data]     PRATAMA\\AppData\\Roaming\\nltk_data...\n",
      "[nltk_data]   Package punkt is already up-to-date!\n"
     ]
    },
    {
     "data": {
      "text/plain": [
       "True"
      ]
     },
     "execution_count": 16,
     "metadata": {},
     "output_type": "execute_result"
    }
   ],
   "source": [
    "# Mengunduh stemmer dari NLTK\n",
    "nltk.download('punkt')"
   ]
  },
  {
   "cell_type": "code",
   "execution_count": 17,
   "metadata": {},
   "outputs": [
    {
     "data": {
      "text/html": [
       "<div>\n",
       "<style scoped>\n",
       "    .dataframe tbody tr th:only-of-type {\n",
       "        vertical-align: middle;\n",
       "    }\n",
       "\n",
       "    .dataframe tbody tr th {\n",
       "        vertical-align: top;\n",
       "    }\n",
       "\n",
       "    .dataframe thead th {\n",
       "        text-align: right;\n",
       "    }\n",
       "</style>\n",
       "<table border=\"1\" class=\"dataframe\">\n",
       "  <thead>\n",
       "    <tr style=\"text-align: right;\">\n",
       "      <th></th>\n",
       "      <th>text</th>\n",
       "      <th>label</th>\n",
       "      <th>case_folding</th>\n",
       "      <th>tokenize</th>\n",
       "      <th>stop_word</th>\n",
       "      <th>stemming</th>\n",
       "    </tr>\n",
       "  </thead>\n",
       "  <tbody>\n",
       "    <tr>\n",
       "      <th>0</th>\n",
       "      <td>Will Trump pull a Brexit times ten What would ...</td>\n",
       "      <td>FAKE</td>\n",
       "      <td>will trump pull a brexit times ten what would ...</td>\n",
       "      <td>[Will, Trump, pull, a, Brexit, times, ten, Wha...</td>\n",
       "      <td>[Will, Trump, pull, Brexit, times, ten, What, ...</td>\n",
       "      <td>will trump pull brexit time ten what would tak...</td>\n",
       "    </tr>\n",
       "    <tr>\n",
       "      <th>1</th>\n",
       "      <td>Clintons Are Under Multiple FBI Investigations...</td>\n",
       "      <td>FAKE</td>\n",
       "      <td>clintons are under multiple fbi investigations...</td>\n",
       "      <td>[Clintons, Are, Under, Multiple, FBI, Investig...</td>\n",
       "      <td>[Clintons, Are, Under, Multiple, FBI, Investig...</td>\n",
       "      <td>clinton are under multipl fbi investig agent a...</td>\n",
       "    </tr>\n",
       "    <tr>\n",
       "      <th>2</th>\n",
       "      <td>Dispatches from Eric Zuesse This piece is cros...</td>\n",
       "      <td>FAKE</td>\n",
       "      <td>dispatches from eric zuesse this piece is cros...</td>\n",
       "      <td>[Dispatches, from, Eric, Zuesse, This, piece, ...</td>\n",
       "      <td>[Dispatches, Eric, Zuesse, This, piece, crossp...</td>\n",
       "      <td>dispatch eric zuess thi piec crosspost strateg...</td>\n",
       "    </tr>\n",
       "    <tr>\n",
       "      <th>3</th>\n",
       "      <td>Print Ed Every now and then the facade cracks ...</td>\n",
       "      <td>FAKE</td>\n",
       "      <td>print ed every now and then the facade cracks ...</td>\n",
       "      <td>[Print, Ed, Every, now, and, then, the, facade...</td>\n",
       "      <td>[Print, Ed, Every, facade, cracks, Somebody, a...</td>\n",
       "      <td>print ed everi facad crack somebodi ask questi...</td>\n",
       "    </tr>\n",
       "    <tr>\n",
       "      <th>4</th>\n",
       "      <td>Nanny In Jail After Force Feeding Baby To Deat...</td>\n",
       "      <td>FAKE</td>\n",
       "      <td>nanny in jail after force feeding baby to deat...</td>\n",
       "      <td>[Nanny, In, Jail, After, Force, Feeding, Baby,...</td>\n",
       "      <td>[Nanny, In, Jail, After, Force, Feeding, Baby,...</td>\n",
       "      <td>nanni in jail after forc feed babi to death 2 ...</td>\n",
       "    </tr>\n",
       "  </tbody>\n",
       "</table>\n",
       "</div>"
      ],
      "text/plain": [
       "                                                text label  \\\n",
       "0  Will Trump pull a Brexit times ten What would ...  FAKE   \n",
       "1  Clintons Are Under Multiple FBI Investigations...  FAKE   \n",
       "2  Dispatches from Eric Zuesse This piece is cros...  FAKE   \n",
       "3  Print Ed Every now and then the facade cracks ...  FAKE   \n",
       "4  Nanny In Jail After Force Feeding Baby To Deat...  FAKE   \n",
       "\n",
       "                                        case_folding  \\\n",
       "0  will trump pull a brexit times ten what would ...   \n",
       "1  clintons are under multiple fbi investigations...   \n",
       "2  dispatches from eric zuesse this piece is cros...   \n",
       "3  print ed every now and then the facade cracks ...   \n",
       "4  nanny in jail after force feeding baby to deat...   \n",
       "\n",
       "                                            tokenize  \\\n",
       "0  [Will, Trump, pull, a, Brexit, times, ten, Wha...   \n",
       "1  [Clintons, Are, Under, Multiple, FBI, Investig...   \n",
       "2  [Dispatches, from, Eric, Zuesse, This, piece, ...   \n",
       "3  [Print, Ed, Every, now, and, then, the, facade...   \n",
       "4  [Nanny, In, Jail, After, Force, Feeding, Baby,...   \n",
       "\n",
       "                                           stop_word  \\\n",
       "0  [Will, Trump, pull, Brexit, times, ten, What, ...   \n",
       "1  [Clintons, Are, Under, Multiple, FBI, Investig...   \n",
       "2  [Dispatches, Eric, Zuesse, This, piece, crossp...   \n",
       "3  [Print, Ed, Every, facade, cracks, Somebody, a...   \n",
       "4  [Nanny, In, Jail, After, Force, Feeding, Baby,...   \n",
       "\n",
       "                                            stemming  \n",
       "0  will trump pull brexit time ten what would tak...  \n",
       "1  clinton are under multipl fbi investig agent a...  \n",
       "2  dispatch eric zuess thi piec crosspost strateg...  \n",
       "3  print ed everi facad crack somebodi ask questi...  \n",
       "4  nanni in jail after forc feed babi to death 2 ...  "
      ]
     },
     "execution_count": 17,
     "metadata": {},
     "output_type": "execute_result"
    }
   ],
   "source": [
    "# Inisialisasi objek Porter Stemmer untuk melakukan stemming kata\n",
    "stemmer = PorterStemmer()\n",
    "\n",
    "# Fungsi untuk melakukan stemming pada setiap kata dalam array\n",
    "def stemming(text):\n",
    "    # Menggunakan list comprehension untuk menerapkan stemming pada setiap kata stemmer.stem() akan mengubah kata ke bentuk dasarnya\n",
    "    return [stemmer.stem(word) for word in text]\n",
    "\n",
    "# Menerapkan fungsi stemming ke kolom 'stop_word' lambda x: ' '.join() digunakan untuk menggabungkan hasil stemming menjadi string dan menyimpan hasilnya di kolom 'stemming'\n",
    "df_sampled['stemming'] = df_sampled['stop_word'].apply(lambda x: ' '.join(stemming(x)))\n",
    "\n",
    "# Menampilkan 5 baris pertama dari dataframe untuk melihat hasil stemming\n",
    "df_sampled.head()"
   ]
  },
  {
   "cell_type": "code",
   "execution_count": 18,
   "metadata": {},
   "outputs": [
    {
     "name": "stdout",
     "output_type": "stream",
     "text": [
      "Distribusi label:\n",
      "FAKE: 51.68%\n",
      "REAL: 48.32%\n"
     ]
    }
   ],
   "source": [
    "# Menghitung distribusi persentase label dalam dataset\n",
    "label_percentages = df_sampled['label'].value_counts(normalize=True) * 100\n",
    "\n",
    "# Menampilkan persentase untuk setiap label\n",
    "print(\"Distribusi label:\")\n",
    "for label, percentage in label_percentages.items():\n",
    "\tprint(f\"{label}: {percentage:.2f}%\")"
   ]
  },
  {
   "cell_type": "markdown",
   "metadata": {},
   "source": [
    "## Reduksi Dimensi dengan SVD"
   ]
  },
  {
   "cell_type": "code",
   "execution_count": 19,
   "metadata": {},
   "outputs": [],
   "source": [
    "# Melakukan Label Encoding untuk mengubah label kategorikal menjadi numerik\n",
    "label_encoder = LabelEncoder()\n",
    "\n",
    "# Mengubah nilai label menjadi angka menggunakan fit_transform\n",
    "y = label_encoder.fit_transform(df_sampled['label'])"
   ]
  },
  {
   "cell_type": "code",
   "execution_count": 20,
   "metadata": {},
   "outputs": [
    {
     "name": "stdout",
     "output_type": "stream",
     "text": [
      "Shape of the original data: (1939, 53703)\n",
      "Shape of the data after SVD: (1939, 100)\n"
     ]
    }
   ],
   "source": [
    "# Melakukan vektorisasi teks menggunakan TF-IDF (Term Frequency-Inverse Document Frequency)\n",
    "vectorizer = TfidfVectorizer()\n",
    "# Mengubah teks dari kolom 'stemming' menjadi matriks TF-IDF \n",
    "X = vectorizer.fit_transform(df_sampled['stemming'])\n",
    "\n",
    "# Melakukan reduksi dimensi menggunakan SVD (Singular Value Decomposition)\n",
    "# n_components=100 berarti akan mereduksi menjadi 100 fitur\n",
    "svd = TruncatedSVD(n_components=100)\n",
    "\n",
    "# Normalisasi hasil SVD agar skala data seragam\n",
    "normalizer = Normalizer(copy=False)\n",
    "\n",
    "# Membuat pipeline untuk menggabungkan proses SVD dan normalisasi\n",
    "lsa = make_pipeline(svd, normalizer)\n",
    "\n",
    "# Menerapkan LSA (Latent Semantic Analysis) ke data TF-IDF\n",
    "X_lsa = lsa.fit_transform(X)\n",
    "\n",
    "# Menampilkan dimensi data sebelum dan sesudah proses SVD\n",
    "print(f\"Shape of the original data: {X.shape}\")\n",
    "print(f\"Shape of the data after SVD: {X_lsa.shape}\")"
   ]
  },
  {
   "cell_type": "markdown",
   "metadata": {},
   "source": [
    "## Pemodelan LSTM"
   ]
  },
  {
   "cell_type": "code",
   "execution_count": 21,
   "metadata": {},
   "outputs": [],
   "source": [
    "# Mengubah bentuk untuk LSTM (samples, timesteps, features)\n",
    "X_reshaped = X_lsa.reshape(X_lsa.shape[0], 1, X_lsa.shape[1])"
   ]
  },
  {
   "cell_type": "code",
   "execution_count": 22,
   "metadata": {},
   "outputs": [],
   "source": [
    "# Membagi data menjadi data latih dan data uji\n",
    "X_train, X_test, y_train, y_test = train_test_split(X_reshaped, y, test_size=0.2, random_state=42)"
   ]
  },
  {
   "cell_type": "code",
   "execution_count": 23,
   "metadata": {},
   "outputs": [
    {
     "name": "stderr",
     "output_type": "stream",
     "text": [
      "c:\\Users\\YOGA PRATAMA\\anaconda3\\Lib\\site-packages\\keras\\src\\layers\\rnn\\rnn.py:204: UserWarning: Do not pass an `input_shape`/`input_dim` argument to a layer. When using Sequential models, prefer using an `Input(shape)` object as the first layer in the model instead.\n",
      "  super().__init__(**kwargs)\n"
     ]
    }
   ],
   "source": [
    "# Membuat model LSTM\n",
    "model = Sequential([\n",
    "    LSTM(64, input_shape=(1, 100)),\n",
    "    Dense(32, activation='relu'),\n",
    "    Dense(1, activation='sigmoid')\n",
    "])\n",
    "\n",
    "model.compile(optimizer='adam',\n",
    "             loss='binary_crossentropy',\n",
    "             metrics=['accuracy'])"
   ]
  },
  {
   "cell_type": "markdown",
   "metadata": {},
   "source": [
    "## Training LSTM"
   ]
  },
  {
   "cell_type": "code",
   "execution_count": 24,
   "metadata": {},
   "outputs": [
    {
     "name": "stdout",
     "output_type": "stream",
     "text": [
      "Epoch 1/10\n",
      "\u001b[1m39/39\u001b[0m \u001b[32m━━━━━━━━━━━━━━━━━━━━\u001b[0m\u001b[37m\u001b[0m \u001b[1m4s\u001b[0m 16ms/step - accuracy: 0.6098 - loss: 0.6882 - val_accuracy: 0.8939 - val_loss: 0.6625\n",
      "Epoch 2/10\n",
      "\u001b[1m39/39\u001b[0m \u001b[32m━━━━━━━━━━━━━━━━━━━━\u001b[0m\u001b[37m\u001b[0m \u001b[1m1s\u001b[0m 4ms/step - accuracy: 0.8654 - loss: 0.6422 - val_accuracy: 0.8971 - val_loss: 0.5618\n",
      "Epoch 3/10\n",
      "\u001b[1m39/39\u001b[0m \u001b[32m━━━━━━━━━━━━━━━━━━━━\u001b[0m\u001b[37m\u001b[0m \u001b[1m0s\u001b[0m 4ms/step - accuracy: 0.8900 - loss: 0.5163 - val_accuracy: 0.9196 - val_loss: 0.3891\n",
      "Epoch 4/10\n",
      "\u001b[1m39/39\u001b[0m \u001b[32m━━━━━━━━━━━━━━━━━━━━\u001b[0m\u001b[37m\u001b[0m \u001b[1m0s\u001b[0m 5ms/step - accuracy: 0.9159 - loss: 0.3358 - val_accuracy: 0.9325 - val_loss: 0.2734\n",
      "Epoch 5/10\n",
      "\u001b[1m39/39\u001b[0m \u001b[32m━━━━━━━━━━━━━━━━━━━━\u001b[0m\u001b[37m\u001b[0m \u001b[1m0s\u001b[0m 4ms/step - accuracy: 0.8985 - loss: 0.2656 - val_accuracy: 0.9196 - val_loss: 0.2376\n",
      "Epoch 6/10\n",
      "\u001b[1m39/39\u001b[0m \u001b[32m━━━━━━━━━━━━━━━━━━━━\u001b[0m\u001b[37m\u001b[0m \u001b[1m0s\u001b[0m 6ms/step - accuracy: 0.9095 - loss: 0.2172 - val_accuracy: 0.9260 - val_loss: 0.2213\n",
      "Epoch 7/10\n",
      "\u001b[1m39/39\u001b[0m \u001b[32m━━━━━━━━━━━━━━━━━━━━\u001b[0m\u001b[37m\u001b[0m \u001b[1m0s\u001b[0m 4ms/step - accuracy: 0.9198 - loss: 0.1969 - val_accuracy: 0.9132 - val_loss: 0.2209\n",
      "Epoch 8/10\n",
      "\u001b[1m39/39\u001b[0m \u001b[32m━━━━━━━━━━━━━━━━━━━━\u001b[0m\u001b[37m\u001b[0m \u001b[1m0s\u001b[0m 4ms/step - accuracy: 0.9101 - loss: 0.2058 - val_accuracy: 0.9035 - val_loss: 0.2389\n",
      "Epoch 9/10\n",
      "\u001b[1m39/39\u001b[0m \u001b[32m━━━━━━━━━━━━━━━━━━━━\u001b[0m\u001b[37m\u001b[0m \u001b[1m0s\u001b[0m 4ms/step - accuracy: 0.9250 - loss: 0.1813 - val_accuracy: 0.9196 - val_loss: 0.2243\n",
      "Epoch 10/10\n",
      "\u001b[1m39/39\u001b[0m \u001b[32m━━━━━━━━━━━━━━━━━━━━\u001b[0m\u001b[37m\u001b[0m \u001b[1m0s\u001b[0m 4ms/step - accuracy: 0.9188 - loss: 0.1842 - val_accuracy: 0.9196 - val_loss: 0.2240\n"
     ]
    }
   ],
   "source": [
    "# Melatih model\n",
    "history = model.fit(X_train, y_train,\n",
    "                   epochs=10, \n",
    "                   batch_size=32,\n",
    "                   validation_split=0.2)"
   ]
  },
  {
   "cell_type": "markdown",
   "metadata": {},
   "source": [
    "## Pengujian LSTM"
   ]
  },
  {
   "cell_type": "code",
   "execution_count": 25,
   "metadata": {},
   "outputs": [
    {
     "name": "stdout",
     "output_type": "stream",
     "text": [
      "\u001b[1m1/1\u001b[0m \u001b[32m━━━━━━━━━━━━━━━━━━━━\u001b[0m\u001b[37m\u001b[0m \u001b[1m0s\u001b[0m 246ms/step\n",
      "Kalimat: president obama said world leader right rattle donald trump they rattle good reason said\n",
      "Hasil: REAL\n"
     ]
    }
   ],
   "source": [
    "# Fungsi untuk mendeteksi apakah kalimat real atau hoax\n",
    "def detect_real_or_hoax(sentence):\n",
    "    # Preprocessing kalimat input\n",
    "    sentence = clean_twitter_text(sentence)\n",
    "    sentence = case_folding(sentence)\n",
    "    tokens = tokenize(sentence)\n",
    "    tokens = remove_stopwords(tokens)\n",
    "    stemmed_sentence = ' '.join(stemming(tokens))\n",
    "    \n",
    "    # Transformasi dengan TF-IDF and SVD\n",
    "    X_input = vectorizer.transform([stemmed_sentence])\n",
    "    X_input_lsa = lsa.transform(X_input)\n",
    "    X_input_reshaped = X_input_lsa.reshape(1, 1, 100)\n",
    "    \n",
    "    # Prediksi\n",
    "    prediction = model.predict(X_input_reshaped)[0]\n",
    "    label = label_encoder.inverse_transform([round(prediction[0])])\n",
    "    \n",
    "    return label[0]\n",
    "\n",
    "# Meminta input kalimat dari pengguna\n",
    "kalimat = input(\"Masukkan kalimat untuk dideteksi: \")\n",
    "hasil = detect_real_or_hoax(kalimat)\n",
    "print(f\"Kalimat: {kalimat}\\nHasil: {hasil}\")"
   ]
  },
  {
   "cell_type": "markdown",
   "metadata": {},
   "source": [
    "## Evaluasi LSTM"
   ]
  },
  {
   "cell_type": "code",
   "execution_count": 26,
   "metadata": {},
   "outputs": [
    {
     "name": "stdout",
     "output_type": "stream",
     "text": [
      "\u001b[1m13/13\u001b[0m \u001b[32m━━━━━━━━━━━━━━━━━━━━\u001b[0m\u001b[37m\u001b[0m \u001b[1m0s\u001b[0m 2ms/step - accuracy: 0.9060 - loss: 0.2426 \n",
      "Test accuracy: 0.9124\n"
     ]
    }
   ],
   "source": [
    "# Evaluasi model\n",
    "loss, accuracy = model.evaluate(X_test, y_test)\n",
    "print(f'Test accuracy: {accuracy:.4f}')"
   ]
  },
  {
   "cell_type": "markdown",
   "metadata": {},
   "source": [
    "## Visualisasi"
   ]
  },
  {
   "cell_type": "code",
   "execution_count": 27,
   "metadata": {},
   "outputs": [
    {
     "data": {
      "image/png": "[encoded data removed]",
      "text/plain": [
       "<Figure size 1200x600 with 2 Axes>"
      ]
     },
     "metadata": {},
     "output_type": "display_data"
    },
    {
     "name": "stdout",
     "output_type": "stream",
     "text": [
      "\u001b[1m13/13\u001b[0m \u001b[32m━━━━━━━━━━━━━━━━━━━━\u001b[0m\u001b[37m\u001b[0m \u001b[1m0s\u001b[0m 2ms/step  \n",
      "\n",
      "Classification Report:\n",
      "              precision    recall  f1-score   support\n",
      "\n",
      "        FAKE       0.91      0.92      0.92       201\n",
      "        REAL       0.91      0.90      0.91       187\n",
      "\n",
      "    accuracy                           0.91       388\n",
      "   macro avg       0.91      0.91      0.91       388\n",
      "weighted avg       0.91      0.91      0.91       388\n",
      "\n"
     ]
    },
    {
     "data": {
      "image/png": "[encoded data removed]",
      "text/plain": [
       "<Figure size 800x600 with 2 Axes>"
      ]
     },
     "metadata": {},
     "output_type": "display_data"
    },
    {
     "name": "stdout",
     "output_type": "stream",
     "text": [
      "\n",
      "Accuracy for class FAKE: 0.9204\n",
      "\n",
      "Accuracy for class REAL: 0.9037\n",
      "\n",
      "Detailed Model Evaluation:\n",
      "Test Loss: 0.2302\n",
      "Test Accuracy: 0.9124\n"
     ]
    }
   ],
   "source": [
    "# Menampilkan grafik akurasi dan loss dari model\n",
    "plt.figure(figsize=(12, 6))\n",
    "\n",
    "# Akurasi subplot\n",
    "plt.subplot(1, 2, 1)\n",
    "train_acc = history.history['accuracy']\n",
    "val_acc = history.history['val_accuracy']\n",
    "\n",
    "plt.plot(train_acc, label=f'Training Accuracy (Final: {train_acc[-1]:.3f})')\n",
    "plt.plot(val_acc, label=f'Validation Accuracy (Final: {val_acc[-1]:.3f})')\n",
    "plt.title('Model Accuracy')\n",
    "plt.xlabel('Epoch')\n",
    "plt.ylabel('Accuracy')\n",
    "plt.legend()\n",
    "\n",
    "# Loss subplot  \n",
    "plt.subplot(1, 2, 2)\n",
    "train_loss = history.history['loss']\n",
    "val_loss = history.history['val_loss']\n",
    "\n",
    "plt.plot(train_loss, label=f'Training Loss (Final: {train_loss[-1]:.3f})')\n",
    "plt.plot(val_loss, label=f'Validation Loss (Final: {val_loss[-1]:.3f})')\n",
    "plt.title('Model Loss')\n",
    "plt.xlabel('Epoch')\n",
    "plt.ylabel('Loss')\n",
    "plt.legend()\n",
    "\n",
    "# Menambahkan nilai min dan max sebagai teks terpisah di luar plot\n",
    "fig = plt.gcf()\n",
    "fig.text(0.5, -0.02, f'Training Acc - Max: {max(train_acc):.3f}, Min: {min(train_acc):.3f}', ha='center', fontsize=10)\n",
    "fig.text(0.5, -0.06, f'Validation Acc - Max: {max(val_acc):.3f}, Min: {min(val_acc):.3f}', ha='center', fontsize=10)\n",
    "fig.text(0.5, -0.10, f'Training Loss - Max: {max(train_loss):.3f}, Min: {min(train_loss):.3f}', ha='center', fontsize=10)\n",
    "fig.text(0.5, -0.14, f'Validation Loss - Max: {max(val_loss):.3f}, Min: {min(val_loss):.3f}', ha='center', fontsize=10)\n",
    "\n",
    "plt.tight_layout(rect=[0, 0.1, 1, 1])\n",
    "plt.show()\n",
    "\n",
    "\n",
    "# Mendapatkan prediksi untuk metrik evaluasi\n",
    "y_pred = model.predict(X_test)\n",
    "y_pred_classes = (y_pred > 0.5).astype(int)\n",
    "\n",
    "# Classification Report\n",
    "print(\"\\nClassification Report:\")\n",
    "print(classification_report(y_test, y_pred_classes, \n",
    "                          target_names=label_encoder.classes_))\n",
    "\n",
    "# Confusion Matrix Plot\n",
    "plt.figure(figsize=(8, 6))\n",
    "cm = confusion_matrix(y_test, y_pred_classes)\n",
    "sns.heatmap(cm, annot=True, fmt='d', cmap='Blues',\n",
    "            xticklabels=label_encoder.classes_,\n",
    "            yticklabels=label_encoder.classes_)\n",
    "plt.title('Confusion Matrix')\n",
    "plt.xlabel('Predicted')\n",
    "plt.ylabel('True')\n",
    "plt.show()\n",
    "\n",
    "# Menampilkan akurasi untuk setiap kelas\n",
    "for i, class_name in enumerate(label_encoder.classes_):\n",
    "    class_mask = y_test == i\n",
    "    class_accuracy = accuracy_score(y_test[class_mask], y_pred_classes[class_mask])\n",
    "    print(f\"\\nAccuracy for class {class_name}: {class_accuracy:.4f}\")\n",
    "\n",
    "# Menampilkan evaluasi model secara keseluruhan\n",
    "print(\"\\nDetailed Model Evaluation:\")\n",
    "print(f\"Test Loss: {loss:.4f}\")\n",
    "print(f\"Test Accuracy: {accuracy:.4f}\")"
   ]
  }
 ],
 "metadata": {
  "kernelspec": {
   "display_name": "base",
   "language": "python",
   "name": "python3"
  },
  "language_info": {
   "codemirror_mode": {
    "name": "ipython",
    "version": 3
   },
   "file_extension": ".py",
   "mimetype": "text/x-python",
   "name": "python",
   "nbconvert_exporter": "python",
   "pygments_lexer": "ipython3",
   "version": "3.12.3"
  }
 },
 "nbformat": 4,
 "nbformat_minor": 2
}
